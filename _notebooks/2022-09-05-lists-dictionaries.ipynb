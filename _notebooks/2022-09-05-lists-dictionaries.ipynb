{
 "cells": [
  {
   "cell_type": "markdown",
   "metadata": {},
   "source": [
    "# Python List Dictionaries Iteration"
   ]
  },
  {
   "cell_type": "markdown",
   "metadata": {},
   "source": [
    "## Defining a list called InfoDb"
   ]
  },
  {
   "cell_type": "code",
   "execution_count": 11,
   "metadata": {},
   "outputs": [],
   "source": [
    "InfoDb = []\n",
    "\n",
    "\n",
    "# InfoDB is a data structure with expected Keys and Values\n",
    "\n",
    "# Append to List a Dictionary of key/values related to a person and cars\n",
    "InfoDb.append({\n",
    "    \"FirstName\": \"John\",\n",
    "    \"LastName\": \"Mortensen\",\n",
    "    \"DOB\": \"October 21\",\n",
    "    \"Residence\": \"San Diego\",\n",
    "    \"Email\": \"jmortensen@powayusd.com\",\n",
    "    \"Owns_Cars\": [\"2015-Fusion\", \"2011-Ranger\", \"2003-Excursion\", \"1997-F350\", \"1969-Cadillac\"]\n",
    "})\n",
    "\n",
    "\n",
    "# Append to List a 2nd Dictionary of key/values\n",
    "InfoDb.append({\n",
    "    \"FirstName\": \"Sunny\",\n",
    "    \"LastName\": \"Naidu\",\n",
    "    \"DOB\": \"August 2\",\n",
    "    \"Residence\": \"Temecula\",\n",
    "    \"Email\": \"snaidu@powayusd.com\",\n",
    "    \"Owns_Cars\": [\"4Runner\"]\n",
    "})\n",
    "\n",
    "\n",
    "#print(InfoDb[0])"
   ]
  },
  {
   "cell_type": "markdown",
   "metadata": {},
   "source": [
    "## Adding records to the InfoDb"
   ]
  },
  {
   "cell_type": "code",
   "execution_count": 12,
   "metadata": {},
   "outputs": [],
   "source": [
    "# create dict\n",
    "third = {\n",
    "    \"FirstName\": \"Nanu\",\n",
    "    \"LastName\": \"Shadow\",\n",
    "    \"DOB\": \"August 5\",\n",
    "    \"Residence\": \"San Diego\",\n",
    "    \"Email\": \"san@powayusd.com\",\n",
    "    \"Owns_Cars\": [\"Jeep\",\"4Runner\"]\n",
    "}\n",
    "\n",
    "# add the dict to List\n",
    "InfoDb.append(third)\n",
    "\n",
    "\n",
    "# create dict\n",
    "fourth = {\n",
    "    \"FirstName\": \"Lional\",\n",
    "    \"LastName\": \"Messi\",\n",
    "    \"DOB\": \"January 30\",\n",
    "    \"Residence\": \"Barcelona\",\n",
    "    \"Email\": \"LMessi@gmail.com\",\n",
    "    \"Owns_Cars\": [\"Lamborghini\",\"Maserati\",\"Corvette\"]\n",
    "}\n",
    "\n",
    "# add the dict to List\n",
    "InfoDb.append(fourth)\n",
    "\n",
    "InfoDb.append({\n",
    "    \"FirstName\": \"Dan\",\n",
    "    \"LastName\": \"Mark\",\n",
    "    \"DOB\": \"October 10\",\n",
    "    \"Residence\": \"San Francisco\",\n",
    "    \"Email\": \"DMark@yahoo.com\",\n",
    "    \"Owns_Cars\": [\"2006 toyota sienna\", \"2011-Hellcat\", \"2003-Toyota Carolla\"]\n",
    "})"
   ]
  },
  {
   "cell_type": "markdown",
   "metadata": {},
   "source": [
    "## print function: of InfoDb content"
   ]
  },
  {
   "cell_type": "code",
   "execution_count": 13,
   "metadata": {},
   "outputs": [],
   "source": [
    "# print function: given a dictionary of InfoDb content\n",
    "def print_data(d_rec):\n",
    "    print(d_rec[\"FirstName\"], d_rec[\"LastName\"])  # using comma puts space between values\n",
    "    print(\"\\t\", \"Residence:\", d_rec[\"Residence\"]) # \\t is a tab indent\n",
    "    print(\"\\t\", \"Birth Day:\", d_rec[\"DOB\"])\n",
    "    print(\"\\t\", \"Cars: \", end=\"\")  # end=\"\" make sure no return occurs\n",
    "    print(\", \".join(d_rec[\"Owns_Cars\"]))  # join allows printing a string list with separator\n",
    "    print()"
   ]
  },
  {
   "cell_type": "markdown",
   "metadata": {},
   "source": [
    "## For Loop Iteration"
   ]
  },
  {
   "cell_type": "code",
   "execution_count": 14,
   "metadata": {},
   "outputs": [
    {
     "name": "stdout",
     "output_type": "stream",
     "text": [
      "For loop output\n",
      "\n",
      "John Mortensen\n",
      "\t Residence: San Diego\n",
      "\t Birth Day: October 21\n",
      "\t Cars: 2015-Fusion, 2011-Ranger, 2003-Excursion, 1997-F350, 1969-Cadillac\n",
      "\n",
      "Sunny Naidu\n",
      "\t Residence: Temecula\n",
      "\t Birth Day: August 2\n",
      "\t Cars: 4Runner\n",
      "\n",
      "Nanu Shadow\n",
      "\t Residence: San Diego\n",
      "\t Birth Day: August 5\n",
      "\t Cars: Jeep, 4Runner\n",
      "\n",
      "Lional Messi\n",
      "\t Residence: Barcelona\n",
      "\t Birth Day: January 30\n",
      "\t Cars: Lamborghini, Maserati, Corvette\n",
      "\n",
      "Dan Mark\n",
      "\t Residence: San Francisco\n",
      "\t Birth Day: October 10\n",
      "\t Cars: 2006 toyota sienna, 2011-Hellcat, 2003-Toyota Carolla\n",
      "\n"
     ]
    }
   ],
   "source": [
    "# for loop algorithm iterates on length of InfoDb\n",
    "def for_loop():\n",
    "    print(\"For loop output\\n\")\n",
    "    for record in InfoDb:\n",
    "        print_data(record)\n",
    "\n",
    "for_loop()"
   ]
  },
  {
   "cell_type": "markdown",
   "metadata": {},
   "source": [
    "## While Loop Iteration"
   ]
  },
  {
   "cell_type": "code",
   "execution_count": 15,
   "metadata": {},
   "outputs": [
    {
     "name": "stdout",
     "output_type": "stream",
     "text": [
      "While loop output\n",
      "\n",
      "John Mortensen\n",
      "\t Residence: San Diego\n",
      "\t Birth Day: October 21\n",
      "\t Cars: 2015-Fusion, 2011-Ranger, 2003-Excursion, 1997-F350, 1969-Cadillac\n",
      "\n",
      "Sunny Naidu\n",
      "\t Residence: Temecula\n",
      "\t Birth Day: August 2\n",
      "\t Cars: 4Runner\n",
      "\n",
      "Nanu Shadow\n",
      "\t Residence: San Diego\n",
      "\t Birth Day: August 5\n",
      "\t Cars: Jeep, 4Runner\n",
      "\n",
      "Lional Messi\n",
      "\t Residence: Barcelona\n",
      "\t Birth Day: January 30\n",
      "\t Cars: Lamborghini, Maserati, Corvette\n",
      "\n",
      "Dan Mark\n",
      "\t Residence: San Francisco\n",
      "\t Birth Day: October 10\n",
      "\t Cars: 2006 toyota sienna, 2011-Hellcat, 2003-Toyota Carolla\n",
      "\n"
     ]
    }
   ],
   "source": [
    "# while loop algorithm contains an initial n and an index incrementing statement (n += 1)\n",
    "def while_loop():\n",
    "    print(\"While loop output\\n\")\n",
    "    i = 0\n",
    "    while i < len(InfoDb):\n",
    "        record = InfoDb[i]\n",
    "        print_data(record)\n",
    "        i += 1\n",
    "    return\n",
    "\n",
    "while_loop()"
   ]
  },
  {
   "cell_type": "markdown",
   "metadata": {},
   "source": [
    "## Iteration using recursion"
   ]
  },
  {
   "cell_type": "code",
   "execution_count": 16,
   "metadata": {},
   "outputs": [
    {
     "name": "stdout",
     "output_type": "stream",
     "text": [
      "Recursive loop output\n",
      "\n",
      "John Mortensen\n",
      "\t Residence: San Diego\n",
      "\t Birth Day: October 21\n",
      "\t Cars: 2015-Fusion, 2011-Ranger, 2003-Excursion, 1997-F350, 1969-Cadillac\n",
      "\n",
      "Sunny Naidu\n",
      "\t Residence: Temecula\n",
      "\t Birth Day: August 2\n",
      "\t Cars: 4Runner\n",
      "\n",
      "Nanu Shadow\n",
      "\t Residence: San Diego\n",
      "\t Birth Day: August 5\n",
      "\t Cars: Jeep, 4Runner\n",
      "\n",
      "Lional Messi\n",
      "\t Residence: Barcelona\n",
      "\t Birth Day: January 30\n",
      "\t Cars: Lamborghini, Maserati, Corvette\n",
      "\n",
      "Dan Mark\n",
      "\t Residence: San Francisco\n",
      "\t Birth Day: October 10\n",
      "\t Cars: 2006 toyota sienna, 2011-Hellcat, 2003-Toyota Carolla\n",
      "\n"
     ]
    }
   ],
   "source": [
    "# recursion algorithm loops incrementing on each call (n + 1) until exit condition is met\n",
    "def recursive_loop(i):\n",
    "    if i < len(InfoDb):\n",
    "        record = InfoDb[i]\n",
    "        print_data(record)\n",
    "        recursive_loop(i + 1)\n",
    "    return\n",
    "    \n",
    "print(\"Recursive loop output\\n\")\n",
    "recursive_loop(0)\n"
   ]
  },
  {
   "cell_type": "markdown",
   "metadata": {},
   "source": [
    "## For Loop Iteration With Index"
   ]
  },
  {
   "cell_type": "code",
   "execution_count": 17,
   "metadata": {},
   "outputs": [
    {
     "name": "stdout",
     "output_type": "stream",
     "text": [
      "for loop with index output\n",
      "\n",
      "John Mortensen\n",
      "\t Residence: San Diego\n",
      "\t Birth Day: October 21\n",
      "\t Cars: 2015-Fusion, 2011-Ranger, 2003-Excursion, 1997-F350, 1969-Cadillac\n",
      "\n",
      "Sunny Naidu\n",
      "\t Residence: Temecula\n",
      "\t Birth Day: August 2\n",
      "\t Cars: 4Runner\n",
      "\n",
      "Nanu Shadow\n",
      "\t Residence: San Diego\n",
      "\t Birth Day: August 5\n",
      "\t Cars: Jeep, 4Runner\n",
      "\n",
      "Lional Messi\n",
      "\t Residence: Barcelona\n",
      "\t Birth Day: January 30\n",
      "\t Cars: Lamborghini, Maserati, Corvette\n",
      "\n",
      "Dan Mark\n",
      "\t Residence: San Francisco\n",
      "\t Birth Day: October 10\n",
      "\t Cars: 2006 toyota sienna, 2011-Hellcat, 2003-Toyota Carolla\n",
      "\n"
     ]
    }
   ],
   "source": [
    "#for loop with an index\n",
    "\n",
    "print(\"for loop with index output\\n\")\n",
    "# display indices in the list\n",
    "for i in range(len(InfoDb)):\n",
    "    print_data(InfoDb[i])"
   ]
  },
  {
   "cell_type": "markdown",
   "metadata": {},
   "source": [
    "## For Loop Iterate in a Reverse Order"
   ]
  },
  {
   "cell_type": "code",
   "execution_count": 18,
   "metadata": {},
   "outputs": [
    {
     "name": "stdout",
     "output_type": "stream",
     "text": [
      "Dan Mark\n",
      "\t Residence: San Francisco\n",
      "\t Birth Day: October 10\n",
      "\t Cars: 2006 toyota sienna, 2011-Hellcat, 2003-Toyota Carolla\n",
      "\n",
      "Lional Messi\n",
      "\t Residence: Barcelona\n",
      "\t Birth Day: January 30\n",
      "\t Cars: Lamborghini, Maserati, Corvette\n",
      "\n",
      "Nanu Shadow\n",
      "\t Residence: San Diego\n",
      "\t Birth Day: August 5\n",
      "\t Cars: Jeep, 4Runner\n",
      "\n",
      "Sunny Naidu\n",
      "\t Residence: Temecula\n",
      "\t Birth Day: August 2\n",
      "\t Cars: 4Runner\n",
      "\n",
      "John Mortensen\n",
      "\t Residence: San Diego\n",
      "\t Birth Day: October 21\n",
      "\t Cars: 2015-Fusion, 2011-Ranger, 2003-Excursion, 1997-F350, 1969-Cadillac\n",
      "\n"
     ]
    }
   ],
   "source": [
    "#for loop in a reverse order\n",
    "for i in reversed(range(len(InfoDb))) :\n",
    "    print_data(InfoDb[i])"
   ]
  },
  {
   "cell_type": "markdown",
   "metadata": {},
   "source": [
    "## List Other Methods -- reverse()"
   ]
  },
  {
   "cell_type": "code",
   "execution_count": 19,
   "metadata": {},
   "outputs": [
    {
     "name": "stdout",
     "output_type": "stream",
     "text": [
      "other methods that can be performed on lists: reverse()\n",
      "While loop output\n",
      "\n",
      "Dan Mark\n",
      "\t Residence: San Francisco\n",
      "\t Birth Day: October 10\n",
      "\t Cars: 2006 toyota sienna, 2011-Hellcat, 2003-Toyota Carolla\n",
      "\n",
      "Lional Messi\n",
      "\t Residence: Barcelona\n",
      "\t Birth Day: January 30\n",
      "\t Cars: Lamborghini, Maserati, Corvette\n",
      "\n",
      "Nanu Shadow\n",
      "\t Residence: San Diego\n",
      "\t Birth Day: August 5\n",
      "\t Cars: Jeep, 4Runner\n",
      "\n",
      "Sunny Naidu\n",
      "\t Residence: Temecula\n",
      "\t Birth Day: August 2\n",
      "\t Cars: 4Runner\n",
      "\n",
      "John Mortensen\n",
      "\t Residence: San Diego\n",
      "\t Birth Day: October 21\n",
      "\t Cars: 2015-Fusion, 2011-Ranger, 2003-Excursion, 1997-F350, 1969-Cadillac\n",
      "\n"
     ]
    }
   ],
   "source": [
    "#other methods that can be performed on the list\n",
    "print(\"other methods that can be performed on lists: reverse()\")\n",
    "InfoDb.reverse()\n",
    "while_loop()\n"
   ]
  },
  {
   "cell_type": "markdown",
   "metadata": {},
   "source": [
    "## Add New Entry to List with User Input"
   ]
  },
  {
   "cell_type": "code",
   "execution_count": 20,
   "metadata": {},
   "outputs": [
    {
     "name": "stdout",
     "output_type": "stream",
     "text": [
      "You added breed : Labarador\n"
     ]
    }
   ],
   "source": [
    "# create new or add to dictionary data set with input\n",
    "def addNewToInfoDb():\n",
    "    #print(\"Enter a key:\")\n",
    "    key = input(\"Enter a key:\")\n",
    "    #print(\"Enter value:\")\n",
    "    value = input(\"Enter value:\")\n",
    "    InfoDb.append({key: value})\n",
    "    print(\"You added \" + key + \" : \" + str(value))\n",
    "\n",
    "addNewToInfoDb()\n"
   ]
  }
 ],
 "metadata": {
  "kernelspec": {
   "display_name": "Python 3.10.4 64-bit",
   "language": "python",
   "name": "python3"
  },
  "language_info": {
   "codemirror_mode": {
    "name": "ipython",
    "version": 3
   },
   "file_extension": ".py",
   "mimetype": "text/x-python",
   "name": "python",
   "nbconvert_exporter": "python",
   "pygments_lexer": "ipython3",
   "version": "3.10.4"
  },
  "orig_nbformat": 4,
  "vscode": {
   "interpreter": {
    "hash": "916dbcbb3f70747c44a77c7bcd40155683ae19c65e1c03b4aa3499c5328201f1"
   }
  }
 },
 "nbformat": 4,
 "nbformat_minor": 2
}
