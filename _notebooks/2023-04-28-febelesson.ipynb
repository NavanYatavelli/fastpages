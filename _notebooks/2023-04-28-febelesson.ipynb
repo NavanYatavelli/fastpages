{
 "cells": [
  {
   "attachments": {},
   "cell_type": "markdown",
   "metadata": {},
   "source": [
    "# Frontend and Backend Development with Big Idea 1 Review\n",
    "- toc: true\n",
    "- branch: master\n",
    "- badges: true\n",
    "- comments: true\n",
    "- categories: [fastpages, jupyter]\n",
    "\n",
    "Today, our goal is to review front-end to backend connections and how they have been used in creating our projects this year. We will also go into detail on concepts that may be unfamiliar like pandas and python api fetch.\n",
    "\n",
    "Please make a copy of our repository. In your terminal type: git clone https://github.com/jiya-sav/ourshiny.git "
   ]
  },
  {
   "attachments": {},
   "cell_type": "markdown",
   "metadata": {},
   "source": [
    "## Installing Scripts Lesson\n"
   ]
  },
  {
   "attachments": {},
   "cell_type": "markdown",
   "metadata": {},
   "source": [
    "### For Windows\n",
    "\n",
    "After you've installed VSCode using WSL, install Anaconda on WSL. \n",
    "\n",
    "Anaconda is like a big tool box for your computer, it has tools and libraries that you might need for data analysis, programming, and computing. Anaconda Python packages include pandas, numpy, sqlite, jupyter, bash, and other kernels. Conda is a tool that helps you manage these tools inside Anaconda. It lets you install, update, delete, and organize packages and materials. Conda script tells Conda what tools and materials you need and how to install them in your Anaconda toolbox.\n",
    "\n",
    "![conda image](https://github.com/kayleehou/myproject/blob/master/images/condadiagram.PNG?raw=true)"
   ]
  },
  {
   "cell_type": "markdown",
   "metadata": {},
   "source": [
    "Type these commands in powershell or terminal"
   ]
  },
  {
   "cell_type": "code",
   "execution_count": null,
   "metadata": {
    "vscode": {
     "languageId": "plaintext"
    }
   },
   "outputs": [],
   "source": [
    "PS C:\\Users\\UserName> wsl  # Windows prompt to WSL command\n",
    "$ cd /tmp # used to store temporary files \n",
    "$ wget https://repo.anaconda.com/archive/Anaconda3-2023.03-Linux-x86_64.sh # downloadable file\n",
    "$ chmod +x Anaconda3-2022.05-Linux-x86_64.sh # chmod (change mode command) changes permissions for a file or directory \n",
    "# Answer yes to all the prompts\n",
    "$ ./Anaconda3-2022.05-Linux-x86_64.sh "
   ]
  },
  {
   "cell_type": "markdown",
   "metadata": {},
   "source": [
    "Start a new WSL Command or Powershell. Now the WSL prompt should be prefixed with (base) from Anaconda install. If not, go back to Anaconda install. The base prefix indicates that you are running inside the conda/anaconda environment. The command \"conda deactivate\" should bring you back. "
   ]
  },
  {
   "cell_type": "code",
   "execution_count": null,
   "metadata": {
    "vscode": {
     "languageId": "plaintext"
    }
   },
   "outputs": [],
   "source": [
    "PS C:\\Users\\ShayM> wsl  # Windows prompt\n",
    "(base) shay@MSI:/mnt/c/Users/ShayM$ cd ~ # WSL prompt\n",
    "(base) shay@MSI:~$ # WSL home, best place to install files\n",
    "\n",
    "# you can check your conda versions\n",
    "(base) id:~$ conda --version "
   ]
  },
  {
   "attachments": {},
   "cell_type": "markdown",
   "metadata": {},
   "source": [
    "### For MacOS\n",
    "\n",
    "> Python2 install on MacOS\n",
    "- Install [Python2](https://www.python.org/ftp/python/2.7.18/python-2.7.18-macosx10.9.pkg)\n",
    "\n",
    "> VSCode install on MacOS.  \n",
    "- Install [VSCode](https://code.visualstudio.com/docs/setup/mac)\n",
    "\n",
    "> Anaconda install on MacOS.\n",
    "- Download for MacOS: [Anaconda](https://www.anaconda.com/products/distribution)\n",
    "- Run Install: Answer yes to questions\n",
    "\n",
    "> Homebrew install on MacOS\n",
    "- Homebrew is a tool that helps you easily install and manage software on your Mac. Think of it like a virtual store for your computer where you can browse, download and install a variety of useful programs and tools.\n",
    "- Copy and Paste to Install from Terminal [Homebrew](https://brew.sh)\n",
    "    - Copy ```bash ... curl ...```  command using copy box on website\n",
    "    - Launch ```terminal``` from search bar\n",
    "    - Paste ```bash ... curl ...``` command into Terminal ... \n",
    "    - Make sure command starts, this should provide feedback/output in terminal and could take a long time, like 10-min, there could be a prompt in the middle, at about 5-minutes.  Follow any on screen instructions provided in terminal output to finish.\n",
    "- Homebrew installs a tool called \"brew\" which helps add and manage developer packages on MacOS. \n",
    "\n",
    "Start a new WSL terminal. Now the terminal prompt should be prefixed with (base) from Anaconda install. If not, go back to Anaconda install. \n",
    "\n",
    "> Having Homebrew and Anaconda allows you to easily install Key Packages needed on MacOS like the commands below are all neccessary: \n",
    "```bash\n",
    "$ brew list # list packages\n",
    "$ brew update # update package list\n",
    "$ brew upgrade # upgrade packages\n",
    "$ brew install git  # install latest git\n",
    "$ brew install python # install python3 for development\n",
    "$ python --version # version of python3 installed\n",
    "$ brew install java # openjdk install\n"
   ]
  },
  {
   "attachments": {},
   "cell_type": "markdown",
   "metadata": {},
   "source": [
    "- Hacks: Screen shot that you have conda installed  "
   ]
  },
  {
   "attachments": {},
   "cell_type": "markdown",
   "metadata": {},
   "source": [
    "## Setting up GitHub Pages with FastPages Features\n",
    "\n",
    "All of you have created your own repository before at the beginning of the year, but some things have changed in the process."
   ]
  },
  {
   "cell_type": "markdown",
   "metadata": {},
   "source": [
    "## How to Make a Pull Request \n",
    "\n",
    "1. After you've cloned a repository and made changes to it, go to pull requests in your Github repository \n",
    "![pull request 1](https://github.com/kayleehou/myproject/blob/master/images/pull_request1.PNG?raw=true)\n",
    "\n",
    "2. Once you click 'create new pull request,' you should see this with your new changes: \n",
    "![pull request 2](https://github.com/kayleehou/myproject/blob/master/images/pull_request2.PNG?raw=true)\n",
    "\n",
    "3. Change the title and send the pull request \n",
    "![pull request 3](https://github.com/kayleehou/myproject/blob/master/images/pull_request3.PNG?raw=true)\n",
    "\n",
    "- Hacks: You will be turning in all your hacks as a pull request. Title the pull request as shown in the third step but with your own name. Any other titles will not be accepted. "
   ]
  },
  {
   "cell_type": "markdown",
   "metadata": {},
   "source": [
    "The below code segment, is from a previous project. It shows the use of a url being fetched, and the JavaScript fetch() command being implemented."
   ]
  },
  {
   "cell_type": "markdown",
   "metadata": {},
   "source": [
    "The fetch worked and we can see all the data, but this is presented in a way that is not very readable. It also has a lot of information we didn't see. Let's say I just want to see the projected weather forecasts."
   ]
  },
  {
   "attachments": {},
   "cell_type": "markdown",
   "metadata": {},
   "source": [
    "## Fetching\n",
    "\n",
    "### The Basics\n",
    "- Fetching means getting data from somewhere else, like a website or database.\n",
    "\n",
    "JavaScript is a programming language that can be used to fetch data from a website or database.\n",
    "\n",
    "- When you fetch data with JavaScript, you first need to tell it where to get the data from. This is called the URL.\n",
    "- Once you know the URL, you can use JavaScript to go and get the data from that URL.\n",
    "- When the data comes back, it's usually in a format like text or JSON. This means that you might need to do some additional work to turn the data into something that your website or application can use.\n",
    "- Once you have the data, you can use JavaScript to display it on your website or application. You can put it in a table, show it on a map, or do anything else you can think of.\n",
    "\n",
    "\n",
    "### About Fetching\n",
    "#### Method\n",
    "The fetching methods are in line with the CRUD (Create, Read, Update, Delete), and list as follows:\n",
    "- \"GET\": Probably the most common method you would use, which is in line with \"read\". It essentially \"gets\" the information from the API and brings it to the frontend where you are able to display it and read it.\n",
    "- \"POST\": Lines up with \"create\" and adds a resource to the API. You will probably mostly be using this with your own API or if a website adds your input to an API.\n",
    "- \"PUT\" and \"PATCH\": Essentially the \"update\" for API. Use \"PUT\" if you want to change the whole resource, or \"PATCH\" if you want to change just one part of a resource.\n",
    "- \"DELETE\": Exactly how it sounds, deletes a resource from the API\n",
    "\n",
    "\n",
    "Popcorn Hacks:\n",
    "- What method should I use if I want to display some of the data stored in the backend?\n",
    "\n",
    "GET\n",
    "\n",
    "- What method would I use if something in the data is misspelled and I want to fix it real quick?\n",
    "\n",
    "PATCH\n",
    "\n",
    "- What method should I use if I want to add a new entry to the data?\n",
    "\n",
    "POST\n",
    "\n",
    "### Filtering Data\n",
    "- If we want to display API data, we are going to have to filter what we want to display for multiple reasons\n",
    "    - These include making sure that the user only sees information they need to see, and not anything else\n",
    "    - Also we need to present the information in a readable format instead of just seeing the raw data"
   ]
  },
  {
   "attachments": {
    "image.png": {
     "image/png": "[encoded data removed]"
    }
   },
   "cell_type": "markdown",
   "metadata": {},
   "source": [
    "# Hacks and Point Division\n",
    "\n",
    "\n",
    "- Popcorn questions answered within lesson (.2)\n",
    "Completed. \n",
    "\n",
    "Please see above.\n",
    "\n",
    "- Screenshot showing proof that conda is installed (.1)\n",
    "\n",
    "Completed. Please see here.\n",
    "\n",
    "![conda installation](attachment:image.png)\n",
    "\n",
    "## Done as pair hacks (Navan and Kaiden)\n",
    "\n",
    "- Create 3 quiz questions to demonstrate the main steps in creating a repository on Github (.1)\n",
    "\n",
    "\n",
    "```\n",
    "1. What is a clone in GitHub?\n",
    "- export a key file\n",
    "- save a commit\n",
    "- sign a git repo\n",
    "- create a local copy of the code   (correct)\n",
    "\n",
    "2. What is a git stash?\n",
    "- Clone a project\n",
    "- Upload a project\n",
    "- Store the current state of the project (correct)\n",
    "- Delete the current state of the project\n",
    "\n",
    "3. What is  git status command do?\n",
    "- Shows the current status of git project files edited, changed, etc (correct)\n",
    "- Helps push the code to repo\n",
    "- Saves a commit\n",
    "- creates a local copy\n",
    "```\n",
    "\n",
    "\n",
    "- Fetch from a third party API, and display json data. Then use the json data in any simple JavaScript function (hint: parse, this makes json data into a JavaScript object) (.4)\n",
    "In your code, comment on how you implemented a 3rd party API. Reflect on how using the 3rd party API helped.\n",
    "\n",
    "Here is the link to the JavaScript Fetch that uses 3rd party API to parse JSON data\n",
    "[JavaScript](https://navanyatavelli.github.io/fastpages/java%20script/2023/04/28/befe.html)\n",
    "\n",
    "\n",
    "\n"
   ]
  }
 ],
 "metadata": {
  "language_info": {
   "name": "python"
  },
  "orig_nbformat": 4
 },
 "nbformat": 4,
 "nbformat_minor": 2
}
