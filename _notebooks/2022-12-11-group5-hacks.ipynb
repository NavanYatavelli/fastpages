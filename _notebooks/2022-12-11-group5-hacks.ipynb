{
 "cells": [
  {
   "cell_type": "markdown",
   "metadata": {},
   "source": [
    "# Group 5 - Section 9 and 11 HACKS"
   ]
  },
  {
   "cell_type": "markdown",
   "metadata": {},
   "source": [
    "### Question 1 HACK\n"
   ]
  },
  {
   "cell_type": "code",
   "execution_count": 4,
   "metadata": {},
   "outputs": [
    {
     "name": "stdout",
     "output_type": "stream",
     "text": [
      "It is cold=True and raining=True so stayInside=True\n"
     ]
    }
   ],
   "source": [
    "isCold = True\n",
    "isRaining = True\n",
    "stayInside = False\n",
    "\n",
    "if ((isCold) or (isRaining)) :\n",
    "    stayInside = True\n",
    "else:\n",
    "    stayInside = False\n",
    "\n",
    "print(\"It is cold=\" + str(isCold) + \" and raining=\" + str(isRaining) + \" so stayInside=\" + str(stayInside))"
   ]
  },
  {
   "cell_type": "markdown",
   "metadata": {},
   "source": [
    "### Question 2 HACK"
   ]
  },
  {
   "cell_type": "code",
   "execution_count": 6,
   "metadata": {},
   "outputs": [
    {
     "name": "stdout",
     "output_type": "stream",
     "text": [
      "9\n",
      "8\n"
     ]
    }
   ],
   "source": [
    "import random\n",
    "\n",
    "def player_turn():\n",
    "    greatest_number = 0\n",
    "    for i in range(4):\n",
    "        new_number = random.randint(1, 10)\n",
    "        if new_number > greatest_number:\n",
    "            greatest_number = new_number\n",
    "    print(greatest_number)\n",
    "\n",
    "player_turn()\n",
    "player_turn()\n"
   ]
  },
  {
   "cell_type": "markdown",
   "metadata": {},
   "source": [
    "## Question 3 HACK\n",
    "\n",
    "```\n",
    "{\n",
    "if MOVE_FORWARD_ALLOWED{\n",
    "    moveForwards\n",
    "}\n",
    "else{\n",
    "    if TURN_RIGHT_ALLOWED{\n",
    "        turnright\n",
    "    }\n",
    "    if TURN_LEFT_ALLOWED{\n",
    "        turnleft\n",
    "    }\n",
    "}\n",
    "}\n",
    "```"
   ]
  },
  {
   "cell_type": "markdown",
   "metadata": {},
   "source": [
    "## Question 4 & 5\n",
    "\n",
    "![hack5q4 Image](/images/hack5q4.jpg)\n",
    "\n",
    "Explanation: We would start our search for element 69 by looking at the middle index, 5 first (8 elements divide by 2, plus 1 index). We find 6. 6 being less than 69 would lead you to consider the greater than half. The middle index for this section is Seven (5+9 = 14/2 = 7). Index number seven is 11, which is lower than index number 69. The eighth index is next examined ((8+8)/2 = 8). We searched and discovered the right number because 8 = 69."
   ]
  },
  {
   "cell_type": "markdown",
   "metadata": {},
   "source": [
    "### Question 6 Diagram\n",
    "\n",
    "![hack5q6 Image](/images/hack5q6.jpg)"
   ]
  },
  {
   "cell_type": "markdown",
   "metadata": {},
   "source": [
    "### Question 7\n",
    "\n",
    "Shown as below in alphabetical order, ascending, place these in this order. As numbers are greater, you can compare which numerical value of these ascii characters is greater, allowing these to be correctly compared.\n",
    "\n",
    "```\n",
    "[\"Market”, ”Ralphs”, “store”, \"Target”, ”Walmart”]\n",
    "```"
   ]
  },
  {
   "cell_type": "markdown",
   "metadata": {},
   "source": [
    "### Question 8 HACK\n",
    "The binary search automatically rules out half of the options with each iteration, it is much faster than sequential search. Since you begin at the middle index, you can either select the group that is higher or lower than the middle index. As a result, each time you divide, you will eliminate half of the potential outcomes."
   ]
  },
  {
   "cell_type": "markdown",
   "metadata": {},
   "source": [
    "### Question 9 HACK\n",
    "From the list [64,36,16,11,9], we  should be looking for number 36. First, I would choose the middle element ((1+5)/2 = 3), and since 16 is less than 36, I would shift back (as the list is reversed). As a result, I would choose the second element (1+3/2 = 2), which equals 36, therefore it would take me just two tries to reach 36."
   ]
  }
 ],
 "metadata": {
  "kernelspec": {
   "display_name": "Python 3.9.12 ('base')",
   "language": "python",
   "name": "python3"
  },
  "language_info": {
   "codemirror_mode": {
    "name": "ipython",
    "version": 3
   },
   "file_extension": ".py",
   "mimetype": "text/x-python",
   "name": "python",
   "nbconvert_exporter": "python",
   "pygments_lexer": "ipython3",
   "version": "3.9.12"
  },
  "orig_nbformat": 4,
  "vscode": {
   "interpreter": {
    "hash": "61a57a4b5406d2de388e2f91097d4e4bcd7d5f4a46f53a795aa28a02eed27fc5"
   }
  }
 },
 "nbformat": 4,
 "nbformat_minor": 2
}
