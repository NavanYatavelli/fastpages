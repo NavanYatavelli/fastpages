{
 "cells": [
  {
   "cell_type": "markdown",
   "metadata": {},
   "source": [
    "# Jupyter Notebook with Javascript kernel"
   ]
  },
  {
   "cell_type": "markdown",
   "metadata": {},
   "source": [
    "### Jupyter Notebook that shows personal usage of Jupyter JavaScript kernel"
   ]
  },
  {
   "cell_type": "markdown",
   "metadata": {},
   "source": [
    "Here is an example of console.log -- this is run behind the scenes and is not visible from the browser."
   ]
  },
  {
   "cell_type": "code",
   "execution_count": 1,
   "metadata": {
    "vscode": {
     "languageId": "javascript"
    }
   },
   "outputs": [
    {
     "name": "stdout",
     "output_type": "stream",
     "text": [
      "Hello\n"
     ]
    }
   ],
   "source": [
    "console.log(\"Hello\");"
   ]
  },
  {
   "cell_type": "markdown",
   "metadata": {},
   "source": [
    "Console Log with String variable"
   ]
  },
  {
   "cell_type": "code",
   "execution_count": 1,
   "metadata": {
    "vscode": {
     "languageId": "javascript"
    }
   },
   "outputs": [
    {
     "name": "stdout",
     "output_type": "stream",
     "text": [
      "Hello, APCSP\n"
     ]
    }
   ],
   "source": [
    "var text = \"Hello, APCSP\"; \n",
    "console.log(text);"
   ]
  },
  {
   "cell_type": "markdown",
   "metadata": {},
   "source": [
    "Building Table data using Java Script"
   ]
  },
  {
   "cell_type": "markdown",
   "metadata": {},
   "source": [
    "This Java Script snippet defines HW Assignment function to hold assignment data "
   ]
  },
  {
   "cell_type": "code",
   "execution_count": 2,
   "metadata": {
    "vscode": {
     "languageId": "javascript"
    }
   },
   "outputs": [],
   "source": [
    "// define a function to hold data for a Assignment\n",
    "function Assignment(week, topic, description, link) {\n",
    "    this.week = \"Week#\" + week;\n",
    "    this.topic = topic;\n",
    "    this.description = description;\n",
    "    this.link = link;\n",
    "}"
   ]
  },
  {
   "cell_type": "markdown",
   "metadata": {},
   "source": [
    "HW Assignment array initilization used to populate the table"
   ]
  },
  {
   "cell_type": "code",
   "execution_count": 3,
   "metadata": {
    "vscode": {
     "languageId": "javascript"
    }
   },
   "outputs": [],
   "source": [
    "// define a Assignment Array \n",
    "var assignments = [ \n",
    "    new Assignment(0,\"Tools and Equipment\", \n",
    "    \"Tool Setup Sprint and Pair Programming\", \t\t\"https://github.com/NavanYatavelli/fastpages/issues/2\"),\n",
    "    new Assignment(1,\"Introduction to Python\", \n",
    "    \"Fastpages Frontend Development & Bash Tutorial\", \t\t\"https://github.com/NavanYatavelli/fastpages/issues/3\"),\n",
    "    new Assignment(2,\"Data Abstraction in Python\", \n",
    "    \"HTML Fragments\", \t\t\n",
    "    \"https://github.com/NavanYatavelli/fastpages/issues/4\"),\n",
    "    new Assignment(3,\"Creative Development Sprint\", \n",
    "    \"Program Design with App Lab by Code.org\", \t\t\"https://github.com/NavanYatavelli/fastpages/issues/5\"),\n",
    "    new Assignment(4,\"Python Web Server Project\", \n",
    "    \"Flask/Python Web Application & Fastpages local server\", \t\t\"https://github.com/NavanYatavelli/fastpages/issues/6\"),\n",
    "    new Assignment(5,\"UI Starters\", \n",
    "    \"JavaScript Tutorial\", \t\"https://github.com/NavanYatavelli/fastpages/issues/7\"),\n",
    "\n",
    "];"
   ]
  },
  {
   "cell_type": "markdown",
   "metadata": {},
   "source": [
    "Below defines the Course function and also constructs its instance "
   ]
  },
  {
   "cell_type": "code",
   "execution_count": 4,
   "metadata": {
    "vscode": {
     "languageId": "javascript"
    }
   },
   "outputs": [
    {
     "data": {
      "text/plain": [
       "Course {\n",
       "  name: 'AP Computer Science Principles',\n",
       "  assignments: \n",
       "   [ Assignment {\n",
       "       week: 'Week#0',\n",
       "       topic: 'Tools and Equipment',\n",
       "       description: 'Tool Setup Sprint and Pair Programming',\n",
       "       link: 'https://github.com/NavanYatavelli/fastpages/issues/2' },\n",
       "     Assignment {\n",
       "       week: 'Week#1',\n",
       "       topic: 'Introduction to Python',\n",
       "       description: 'Fastpages Frontend Development & Bash Tutorial',\n",
       "       link: 'https://github.com/NavanYatavelli/fastpages/issues/3' },\n",
       "     Assignment {\n",
       "       week: 'Week#2',\n",
       "       topic: 'Data Abstraction in Python',\n",
       "       description: 'HTML Fragments',\n",
       "       link: 'https://github.com/NavanYatavelli/fastpages/issues/4' },\n",
       "     Assignment {\n",
       "       week: 'Week#3',\n",
       "       topic: 'Creative Development Sprint',\n",
       "       description: 'Program Design with App Lab by Code.org',\n",
       "       link: 'https://github.com/NavanYatavelli/fastpages/issues/5' },\n",
       "     Assignment {\n",
       "       week: 'Week#4',\n",
       "       topic: 'Python Web Server Project',\n",
       "       description: 'Flask/Python Web Application & Fastpages local server',\n",
       "       link: 'https://github.com/NavanYatavelli/fastpages/issues/6' },\n",
       "     Assignment {\n",
       "       week: 'Week#5',\n",
       "       topic: 'UI Starters',\n",
       "       description: 'JavaScript Tutorial',\n",
       "       link: 'https://github.com/NavanYatavelli/fastpages/issues/7' } ] }"
      ]
     },
     "execution_count": 4,
     "metadata": {},
     "output_type": "execute_result"
    }
   ],
   "source": [
    "// define a course and build Course objects\n",
    "function Course(name, assignments){ \n",
    "    this.name = name; // name of the course\n",
    "    this.assignments = assignments; //assignments for this course\n",
    "}\n",
    "\n",
    "// make a Computer Science Course - with name and assignements\n",
    "apcompsci = new Course(\"AP Computer Science Principles\", assignments);"
   ]
  },
  {
   "cell_type": "markdown",
   "metadata": {},
   "source": [
    "This snippet builds the HTML table body using fragments and Java Script "
   ]
  },
  {
   "cell_type": "code",
   "execution_count": 7,
   "metadata": {
    "vscode": {
     "languageId": "javascript"
    }
   },
   "outputs": [
    {
     "data": {
      "text/plain": [
       "[Function]"
      ]
     },
     "execution_count": 7,
     "metadata": {},
     "output_type": "execute_result"
    }
   ],
   "source": [
    "// define an HTML conversion \"method\" associated with Course\n",
    "Course.prototype._toHtml = function() {\n",
    "    // HTML Style is build using inline structure\n",
    "    var style = (\n",
    "      \"display:inline-block;\" +\n",
    "      \"border: 2px solid grey;\" +\n",
    "      \"box-shadow: 0.8em 0.4em 0.4em grey;\"\n",
    "    );\n",
    "  \n",
    "    // HTML Body of Table is build as a series of concatenations (+=)\n",
    "    var body = \"\";\n",
    "    \n",
    "    // Heading for Array Columns\n",
    "    body += \"<tr>\";\n",
    "    body += \"<th><mark>\" + \"Week\" + \"</mark></th>\";\n",
    "    body += \"<th><mark>\" + \"Topic\" + \"</mark></th>\";\n",
    "    body += \"<th><mark>\" + \"Description\" + \"</mark></th>\";\n",
    "    body += \"<th><mark>\" + \"HW Link\" + \"</mark></th>\";\n",
    "    body += \"</tr>\";\n",
    "    // Data of Array, iterate through each row of compsci.classroom \n",
    "    for (var row of apcompsci.assignments) {\n",
    "      // tr for each row, a new line\n",
    "      body += \"<tr>\";\n",
    "      // td for each column of data\n",
    "      body += \"<td>\" + row.week + \"</td>\";\n",
    "      body += \"<td>\" + row.topic + \"</td>\";\n",
    "      body += \"<td>\" + row.description + \"</td>\";\n",
    "      body += \"<td>\" + \"<a href=\\\"\" + row.link + \"\\\">\" + row.topic + \"</a>\" + \"</td>\";\n",
    "      body += \"<tr>\";\n",
    "    }\n",
    "   \n",
    "     // Build and HTML fragment of  body\n",
    "     /*\n",
    "    return (\n",
    "          body \n",
    "    );\n",
    "*/\n",
    "    return (\n",
    "      \"<div style='\" + style + \"'>\" +\n",
    "        \"<table>\" +\n",
    "          body +\n",
    "        \"</table>\" +\n",
    "      \"</div>\"\n",
    "    );\n",
    "  \n",
    "  };"
   ]
  },
  {
   "cell_type": "markdown",
   "metadata": {},
   "source": [
    "Here is the output of Table data that was built by Java Script"
   ]
  },
  {
   "cell_type": "code",
   "execution_count": 8,
   "metadata": {
    "vscode": {
     "languageId": "javascript"
    }
   },
   "outputs": [
    {
     "data": {
      "text/html": [
       "<div style='display:inline-block;border: 2px solid grey;box-shadow: 0.8em 0.4em 0.4em grey;'><table><tr><th><mark>Week</mark></th><th><mark>Topic</mark></th><th><mark>Description</mark></th><th><mark>HW Link</mark></th></tr><tr><td>Week#0</td><td>Tools and Equipment</td><td>Tool Setup Sprint and Pair Programming</td><td><a href=\"https://github.com/NavanYatavelli/fastpages/issues/2\">Tools and Equipment</a></td><tr><tr><td>Week#1</td><td>Introduction to Python</td><td>Fastpages Frontend Development & Bash Tutorial</td><td><a href=\"https://github.com/NavanYatavelli/fastpages/issues/3\">Introduction to Python</a></td><tr><tr><td>Week#2</td><td>Data Abstraction in Python</td><td>HTML Fragments</td><td><a href=\"https://github.com/NavanYatavelli/fastpages/issues/4\">Data Abstraction in Python</a></td><tr><tr><td>Week#3</td><td>Creative Development Sprint</td><td>Program Design with App Lab by Code.org</td><td><a href=\"https://github.com/NavanYatavelli/fastpages/issues/5\">Creative Development Sprint</a></td><tr><tr><td>Week#4</td><td>Python Web Server Project</td><td>Flask/Python Web Application & Fastpages local server</td><td><a href=\"https://github.com/NavanYatavelli/fastpages/issues/6\">Python Web Server Project</a></td><tr><tr><td>Week#5</td><td>UI Starters</td><td>JavaScript Tutorial</td><td><a href=\"https://github.com/NavanYatavelli/fastpages/issues/7\">UI Starters</a></td><tr></table></div>"
      ]
     },
     "execution_count": 8,
     "metadata": {},
     "output_type": "execute_result"
    }
   ],
   "source": [
    "// IJavaScript HTML processor receive parameter of defined HTML fragment\n",
    "$$.html(apcompsci._toHtml());"
   ]
  }
 ],
 "metadata": {
  "kernelspec": {
   "display_name": "Python 3.10.4 64-bit",
   "language": "python",
   "name": "python3"
  },
  "language_info": {
   "file_extension": ".js",
   "mimetype": "application/javascript",
   "name": "python",
   "version": "3.10.4"
  },
  "orig_nbformat": 4,
  "vscode": {
   "interpreter": {
    "hash": "916dbcbb3f70747c44a77c7bcd40155683ae19c65e1c03b4aa3499c5328201f1"
   }
  }
 },
 "nbformat": 4,
 "nbformat_minor": 2
}
