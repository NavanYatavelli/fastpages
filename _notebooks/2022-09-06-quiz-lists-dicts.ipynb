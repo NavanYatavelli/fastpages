{
 "cells": [
  {
   "cell_type": "code",
   "execution_count": null,
   "metadata": {},
   "outputs": [],
   "source": []
  },
  {
   "cell_type": "markdown",
   "metadata": {},
   "source": [
    "## Python Quiz list of Dictionaries"
   ]
  },
  {
   "cell_type": "code",
   "execution_count": 1,
   "metadata": {},
   "outputs": [
    {
     "name": "stdout",
     "output_type": "stream",
     "text": [
      "Hey there!, root running /bin/python3\n",
      "You will be asked 8 questions.\n",
      "Question: Are you ready to take a quiz?\n",
      "Answer: Yes\n",
      "Question: Who was the quarterback for the Patriots 7 years ago?\n",
      "Correct respose\n",
      "Question: Who is the current quarterback for the Patriots?\n",
      "Incorrect response!\n",
      "Question: What position does Aaron Rodgers play?\n",
      "Incorrect response!\n",
      "Question: Who is the owner of the Patriots football team?\n",
      "Correct respose\n",
      "Question: What is the name of the most popular football video game?\n",
      "Incorrect response!\n",
      "Question: What command is used to include other functions that are developed?\n",
      "Incorrect response!\n",
      "Question: What command in this example is used to evaluate a response?\n",
      "Incorrect response!\n",
      "Question: Each 'if' command contains an '_________' to determine a true or false condition?\n",
      "Incorrect response!\n",
      "root you scored 2/8. You got 6 questions wrong. Your percentage on this quiz is 25.0%.\n"
     ]
    }
   ],
   "source": [
    "import getpass, sys # imports library/ code\n",
    "from site import ENABLE_USER_SITE # imports from a site\n",
    "\n",
    "def question_and_answer(prompt): # defines question_and_answer # definition\n",
    "    print(\"Question: \" + prompt) # asks question\n",
    "    msg = input() # get input\n",
    "    print(\"Answer: \" + msg) # prints answer\n",
    "    \n",
    "questions = 8 # declaring variables\n",
    "correct = 0\n",
    "wrong = 0\n",
    "\n",
    "def question_with_response(dictionary): # definition of optimized function\n",
    "    question = list(dictionary.keys())[0] # get the question from dict\n",
    "    answer = dictionary[question] # get the answer from dict\n",
    "    print(\"Question: \" + question) \n",
    "    rsp = input()\n",
    "    global correct, wrong # use global variables\n",
    "    if rsp == answer:\n",
    "        print(\"Correct respose\")\n",
    "        correct += 1\n",
    "    else:\n",
    "        print(\"Incorrect response!\")\n",
    "        wrong += 1\n",
    "\n",
    "print('Hey there!, ' + getpass.getuser() + \" running \" + sys.executable) # program logic beggins\n",
    "print(\"You will be asked \" + str(questions) + \" questions.\")\n",
    "question_and_answer(\"Are you ready to take a quiz?\") # first question begins\n",
    "\n",
    "# This is a list of dictionaries\n",
    "list_quiz =[\n",
    "    {\"Who was the quarterback for the Patriots 7 years ago?\":\"Tom Brady\"},\n",
    "    {\"Who is the current quarterback for the Patriots?\":\"Mac Jones\"},\n",
    "    {\"What position does Aaron Rodgers play?\":\"Quarterback\"},\n",
    "    {\"Who is the owner of the Patriots football team?\":\"Robert Kraft\"},\n",
    "    {\"What is the name of the most popular football video game?\":\"Madden\"},\n",
    "    {\"What command is used to include other functions that are developed?\":\"import\"},\n",
    "    {\"What command in this example is used to evaluate a response?\":\"if\"},\n",
    "    {\"Each 'if' command contains an '_________' to determine a true or false condition?\":\"expression\"}\n",
    "    ]\n",
    "\n",
    "# Ask each question    \n",
    "for dictionary in list_quiz:\n",
    "    question_with_response(dictionary)\n",
    "\n",
    "# percent calculation    \n",
    "percent = (correct/questions) * 100 # finding a perctage\n",
    "\n",
    "print(getpass.getuser() + \" you scored \" + str(correct) +\"/\" + str(questions) + \". You got \" + str(wrong) + \" questions wrong. Your percentage on this quiz is \" + str(percent) + \"%.\") # printing out the score and percentage\n"
   ]
  }
 ],
 "metadata": {
  "kernelspec": {
   "display_name": "Python 3.10.4 64-bit",
   "language": "python",
   "name": "python3"
  },
  "language_info": {
   "codemirror_mode": {
    "name": "ipython",
    "version": 3
   },
   "file_extension": ".py",
   "mimetype": "text/x-python",
   "name": "python",
   "nbconvert_exporter": "python",
   "pygments_lexer": "ipython3",
   "version": "3.10.4"
  },
  "orig_nbformat": 4,
  "vscode": {
   "interpreter": {
    "hash": "916dbcbb3f70747c44a77c7bcd40155683ae19c65e1c03b4aa3499c5328201f1"
   }
  }
 },
 "nbformat": 4,
 "nbformat_minor": 2
}
