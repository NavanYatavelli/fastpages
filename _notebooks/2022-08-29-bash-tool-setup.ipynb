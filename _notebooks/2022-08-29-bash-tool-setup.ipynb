{
 "cells": [
  {
   "cell_type": "markdown",
   "metadata": {},
   "source": [
    "# Bash Tool Setup \n",
    "\n",
    "- toc: true\n",
    "- badges: true\n",
    "- categories: [jupyter]\n",
    "- comments: true\n"
   ]
  },
  {
   "cell_type": "markdown",
   "metadata": {},
   "source": [
    "Verify Tools have been installed"
   ]
  },
  {
   "cell_type": "code",
   "execution_count": 1,
   "metadata": {
    "vscode": {
     "languageId": "shellscript"
    }
   },
   "outputs": [
    {
     "name": "stdout",
     "output_type": "stream",
     "text": [
      "Checking python is installed004l\n",
      "Python 3.9.1204l\u001b[?2004l\u001b[?2004l\u001b[?2004l\u001b[?2004l\u001b[?2004l\n",
      "Python is installed\n",
      "Checking Conds is installed\n",
      "conda 4.13.0004l\u001b[?2004l\u001b[?2004l\u001b[?2004l\u001b[?2004l\u001b[?2004l\n",
      "Conda is installed\n",
      "Checking jupyter is installed\n",
      "Selected Jupyter core packages...[?2004l\u001b[?2004l\u001b[?2004l\n",
      "IPython          : 8.2.0\n",
      "ipykernel        : 6.9.1\n",
      "ipywidgets       : 7.6.5\n",
      "jupyter_client   : 6.1.12\n",
      "jupyter_core     : 4.9.2\n",
      "jupyter_server   : 1.13.5\n",
      "jupyterlab       : 3.3.2\n",
      "nbclient         : 0.5.13\n",
      "nbconvert        : 6.4.4\n",
      "nbformat         : 5.3.0\n",
      "notebook         : 6.4.8\n",
      "qtconsole        : 5.3.0\n",
      "traitlets        : 5.1.1\n",
      "jupyter is installed\n",
      "Checking javascript is installed\n",
      "javascript: command not found04l\u001b[?2004l\u001b[?2004l\u001b[?2004l\n",
      "javascript is not installed\n",
      "\u001b[?2004h"
     ]
    },
    {
     "ename": "",
     "evalue": "1",
     "output_type": "error",
     "traceback": []
    }
   ],
   "source": [
    "#!/bin/bash\n",
    "\n",
    "\n",
    "echo \"Checking python is installed\"\n",
    "\n",
    "if eval \"python --version\"; then\n",
    "    echo \"Python is installed\"\n",
    "else \n",
    "    echo \"Python is not installed\"\n",
    "fi\n",
    "\n",
    "echo \"Checking Conds is installed\"\n",
    "\n",
    "if eval \"conda --version\"; then\n",
    "    echo \"Conda is installed\"\n",
    "else \n",
    "    echo \"Conda is not installed\"\n",
    "fi\n",
    "\n",
    "echo \"Checking jupyter is installed\"\n",
    "\n",
    "if eval \"jupyter --version\"; then\n",
    "    echo \"jupyter is installed\"\n",
    "else \n",
    "    echo \"jupyter is not installed\"\n",
    "fi\n",
    "\n",
    "echo \"Checking javascript is installed\"\n",
    "\n",
    "if eval \"javascript --version\"; then\n",
    "    echo \"javascript is installed\"\n",
    "else \n",
    "    echo \"javascript is not installed\"\n",
    "fi\n",
    "\n"
   ]
  },
  {
   "cell_type": "markdown",
   "metadata": {},
   "source": [
    "Update repository with Bash"
   ]
  },
  {
   "cell_type": "code",
   "execution_count": null,
   "metadata": {
    "vscode": {
     "languageId": "shellscript"
    }
   },
   "outputs": [],
   "source": [
    "#! /bin/bash\n",
    "#go to the git directory\n",
    "cd /pwd/../../\n",
    "#make changes to files and then add\n",
    "git add .\n",
    "#commit\n",
    "git commit -m \"fake update\"\n",
    "#update \n",
    "git push origin master"
   ]
  },
  {
   "cell_type": "markdown",
   "metadata": {},
   "source": [
    "Automate Installation!!"
   ]
  },
  {
   "cell_type": "code",
   "execution_count": null,
   "metadata": {
    "vscode": {
     "languageId": "shellscript"
    }
   },
   "outputs": [],
   "source": [
    "#!/bin/bash\n",
    "\n",
    "echo \"installing Jupyter bash kernel\"\n",
    "pip install bash_kernel\n",
    "python -m bash_kernel.install\n",
    "echo \"Installation complete\"\n"
   ]
  }
 ],
 "metadata": {
  "kernelspec": {
   "display_name": "Bash",
   "language": "bash",
   "name": "bash"
  },
  "language_info": {
   "codemirror_mode": "shell",
   "file_extension": ".sh",
   "mimetype": "text/x-sh",
   "name": "bash"
  },
  "orig_nbformat": 4
 },
 "nbformat": 4,
 "nbformat_minor": 2
}
