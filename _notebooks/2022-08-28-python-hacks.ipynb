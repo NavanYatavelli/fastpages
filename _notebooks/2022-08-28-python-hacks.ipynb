{
 "cells": [
  {
   "cell_type": "markdown",
   "metadata": {},
   "source": [
    "# My Python Quiz and Hacks"
   ]
  },
  {
   "cell_type": "markdown",
   "metadata": {},
   "source": [
    "Python Quiz and Hacks"
   ]
  },
  {
   "cell_type": "markdown",
   "metadata": {},
   "source": [
    "This is the quiz that I have made regarding American Football as well as Mr.Mortinson's questions."
   ]
  },
  {
   "cell_type": "code",
   "execution_count": 1,
   "metadata": {},
   "outputs": [
    {
     "name": "stdout",
     "output_type": "stream",
     "text": [
      "Hey there!, root running /bin/python3\n",
      "You will be asked 5 questions.\n",
      "Question: Are you ready to take a test?\n",
      "Answer: yes\n",
      "Question: Who was the quarterback for the Patriots 7 years ago?\n",
      "Tom Brady Good Job!\n",
      "Question: Who is the current quarterback for the Patriots?\n",
      "Mac Jones is the current quarterback for the New England Patriots!\n",
      "Question: What position does Aaron Rodgers play?\n",
      "Wide Reciever is incorrect!\n",
      "Question: Who is the owner of the Patriots football team?\n",
      "Robert Kraft is correct!\n",
      "Question: What is the name of the most popular football video game?\n",
      "Madden is correct!\n",
      "root you scored 4/5. You got 1 questions wrong. Your percentage on this quiz is 80.0%.\n"
     ]
    }
   ],
   "source": [
    "import getpass, sys\n",
    "from site import ENABLE_USER_SITE\n",
    "\n",
    "def question_and_answer(prompt):\n",
    "    print(\"Question: \" + prompt)\n",
    "    msg = input()\n",
    "    print(\"Answer: \" + msg)\n",
    "    \n",
    "def question_with_response(prompt):\n",
    "    print(\"Question: \" + prompt)\n",
    "    msg = input()\n",
    "    return msg\n",
    "\n",
    "questions = 5\n",
    "correct = 0\n",
    "wrong = 0\n",
    "\n",
    "print('Hey there!, ' + getpass.getuser() + \" running \" + sys.executable)\n",
    "print(\"You will be asked \" + str(questions) + \" questions.\")\n",
    "question_and_answer(\"Are you ready to take a test?\")\n",
    "\n",
    "rsp = question_with_response(\"Who was the quarterback for the Patriots 7 years ago?\")\n",
    "if rsp == \"Tom Brady\":\n",
    "    print(rsp + \" Good Job!\")\n",
    "    correct += 1\n",
    "elif rsp == \"Mac Jones\":\n",
    "    print(rsp + \" is the current quarterback, the question asked for 7 years ago.\")\n",
    "    wrong += 1 \n",
    "else:\n",
    "    print(\"Your answer of \" + rsp + \" is incorrect! Here is another question.\")\n",
    "    wrong += 1\n",
    "\n",
    "\n",
    "rsp = question_with_response(\"Who is the current quarterback for the Patriots?\")\n",
    "if rsp == \"Mac Jones\":\n",
    "    print(rsp + \" is the current quarterback for the New England Patriots!\")\n",
    "    correct += 1\n",
    "else:\n",
    "    print(rsp + \" is incorrect!\")\n",
    "    wrong += 1\n",
    "\n",
    "rsp = question_with_response(\"What position does Aaron Rodgers play?\")\n",
    "if rsp == \"Quarterback\":\n",
    "    print(rsp + \" is correct!\")\n",
    "    correct += 1\n",
    "else:\n",
    "    print(rsp + \" is incorrect!\")\n",
    "    wrong += 1\n",
    "\n",
    "rsp = question_with_response(\"Who is the owner of the Patriots football team?\")\n",
    "if rsp == \"Robert Kraft\":\n",
    "    print(rsp + \" is correct!\")\n",
    "    correct += 1\n",
    "else:\n",
    "    print(rsp + \" is incorrect!\")\n",
    "    wrong += 1\n",
    "\n",
    "rsp = question_with_response(\"What is the name of the most popular football video game?\")\n",
    "if rsp == \"Madden\":\n",
    "    print(rsp + \" is correct!\")\n",
    "    correct += 1\n",
    "else:\n",
    "    print(rsp + \" is incorrect!\")\n",
    "    wrong += 1\n",
    "    \n",
    "percent = (correct/questions) * 100\n",
    "\n",
    "print(getpass.getuser() + \" you scored \" + str(correct) +\"/\" + str(questions) + \". You got \" + str(wrong) + \" questions wrong. Your percentage on this quiz is \" + str(percent) + \"%.\") "
   ]
  }
 ],
 "metadata": {
  "kernelspec": {
   "display_name": "Python 3.10.4 64-bit",
   "language": "python",
   "name": "python3"
  },
  "language_info": {
   "codemirror_mode": {
    "name": "ipython",
    "version": 3
   },
   "file_extension": ".py",
   "mimetype": "text/x-python",
   "name": "python",
   "nbconvert_exporter": "python",
   "pygments_lexer": "ipython3",
   "version": "3.10.4"
  },
  "orig_nbformat": 4,
  "vscode": {
   "interpreter": {
    "hash": "916dbcbb3f70747c44a77c7bcd40155683ae19c65e1c03b4aa3499c5328201f1"
   }
  }
 },
 "nbformat": 4,
 "nbformat_minor": 2
}
