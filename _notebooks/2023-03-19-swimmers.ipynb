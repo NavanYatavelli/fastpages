{
 "cells": [
  {
   "attachments": {},
   "cell_type": "markdown",
   "metadata": {},
   "source": [
    "#  Top Swimmers SQL Table\n",
    "- toc: true\n",
    "- author: Navan Yatavelli\n",
    "- comments: true"
   ]
  },
  {
   "cell_type": "code",
   "execution_count": 30,
   "metadata": {},
   "outputs": [],
   "source": [
    "\"\"\"\n",
    "These imports define the key objects for Swimmers DB Table\n",
    "\"\"\"\n",
    "\n",
    "from flask import Flask\n",
    "from flask_sqlalchemy import SQLAlchemy\n",
    "\n",
    "# Setup of key Flask object (app)\n",
    "app = Flask(__name__)\n",
    "# Setup SQLAlchemy object and properties for the database (db)\n",
    "database = 'sqlite:///instance/sqlite.db' # path and filename of database\n",
    "app.config['SQLALCHEMY_TRACK_MODIFICATIONS'] = False\n",
    "app.config['SQLALCHEMY_DATABASE_URI'] = database\n",
    "app.config['SECRET_KEY'] = 'SECRET_KEY'\n",
    "db = SQLAlchemy()\n",
    "\n",
    "# This run once per project\n",
    "db.init_app(app)"
   ]
  },
  {
   "cell_type": "code",
   "execution_count": 31,
   "metadata": {},
   "outputs": [],
   "source": [
    "import datetime\n",
    "from datetime import datetime\n",
    "import json\n",
    "\n",
    "from sqlalchemy.exc import IntegrityError\n",
    "from werkzeug.security import generate_password_hash, check_password_hash\n",
    "\n",
    "# Define the Swimmer class to manage actions in the 'swimmer' table\n",
    "class Swimmer(db.Model):\n",
    "    __tablename__ = 'swimmer'\n",
    "\n",
    "    # Define the Swimmer schema with \"vars\" from object\n",
    "    id = db.Column(db.Integer, primary_key=True)\n",
    "    _name = db.Column(db.String(255), unique=False, nullable=False)\n",
    "    _speed = db.Column(db.Float, unique=False, nullable=False)\n",
    "    _height = db.Column(db.Float, unique=False, nullable=False)\n",
    "    _weight = db.Column(db.Integer, unique=False, nullable=False)\n",
    "\n",
    "    # constructor of a Swimmer object, initializes the instance variables within object (self)\n",
    "    def __init__(self, name, speed, height, weight):\n",
    "        self._name = name\n",
    "        self._speed = speed\n",
    "        self._height = height\n",
    "        self._weight = weight\n",
    "\n",
    "   \n",
    "    @property\n",
    "    def name(self):\n",
    "        return self._name\n",
    "    \n",
    "    @name.setter \n",
    "    def name(self, name):\n",
    "        self._name = name\n",
    "    \n",
    "    @property\n",
    "    def speed(self):\n",
    "        return self._speed\n",
    "    \n",
    "    @speed.setter\n",
    "    def speed(self, speed):\n",
    "        self._speed = speed\n",
    "    \n",
    "    @property\n",
    "    def height(self):\n",
    "        return self._height\n",
    "\n",
    "    @height.setter\n",
    "    def height(self, height):\n",
    "        self._height = height \n",
    "    \n",
    "    @property\n",
    "    def weight(self):\n",
    "        return self._weight\n",
    "\n",
    "    @weight.setter\n",
    "    def weight(self, weight):\n",
    "        self._weight = weight\n",
    "\n",
    "\n",
    "    def __str__(self):\n",
    "        return json.dumps(self.read())\n",
    "\n",
    "    def create(self):\n",
    "        try:\n",
    "            \n",
    "            db.session.add(self) \n",
    "            db.session.commit() \n",
    "            return self\n",
    "        except IntegrityError:\n",
    "            db.session.remove()\n",
    "            return None\n",
    "\n",
    "    def read(self):\n",
    "        return {\n",
    "            \"id\": self.id,\n",
    "            \"name\": self.name,\n",
    "            \"speed\": self.speed,\n",
    "            \"height\": self.height,\n",
    "            \"weight\": self.weight,\n",
    "        }\n",
    "\n",
    "    def update(self, dictionary):\n",
    "        for x in dictionary:\n",
    "            if x == \"speed\":\n",
    "                self.speed = dictionary[x]\n",
    "            if x == \"height\":\n",
    "                self.height = dictionary[x]\n",
    "            if x == \"weight\":\n",
    "                self.weight = dictionary[x]\n",
    "        db.session.merge(self)\n",
    "        db.session.commit()\n",
    "        return None\n",
    "\n",
    "    def delete(self):\n",
    "        db.session.delete(self)\n",
    "        db.session.commit()\n",
    "        return None"
   ]
  },
  {
   "cell_type": "code",
   "execution_count": 32,
   "metadata": {},
   "outputs": [
    {
     "name": "stdout",
     "output_type": "stream",
     "text": [
      "Created new uid Caeleb Dressel\n",
      "Created new uid Alain Bernard\n",
      "Created new uid Nathan Adrian\n",
      "Created new uid Kyle Chalmers\n",
      "Created new uid Pieter Hoogenband\n",
      "Created new uid Alexander Popov\n"
     ]
    }
   ],
   "source": [
    "def initUsers():\n",
    "    with app.app_context():\n",
    "        db.create_all()\n",
    "        p1 = Swimmer(name='Caeleb Dressel', speed='47.02', height='6.3', weight='194')\n",
    "        p2 = Swimmer(name='Alain Bernard', speed='47.21', height='6.5', weight='200')\n",
    "        p3 = Swimmer(name='Nathan Adrian', speed='47.52', height='6.6', weight='227')\n",
    "        p4 = Swimmer(name='Kyle Chalmers', speed='47.58', height='6.4', weight='198')\n",
    "        p5 = Swimmer(name='Pieter Hoogenband', speed='48.17', height='6.4', weight='180')\n",
    "        p6 = Swimmer(name='Alexander Popov', speed='48.74', height='6.5', weight='192')\n",
    "\n",
    "\n",
    "        swimmers = [p1, p2, p3, p4, p5, p6]\n",
    "\n",
    "        for x in swimmers:\n",
    "            try:\n",
    "                object = x.create()\n",
    "                print(f\"Created new uid {object.name}\")\n",
    "            except:\n",
    "                print(f\"Records exist uid {x.name}, or error.\")\n",
    "                \n",
    "initUsers()"
   ]
  },
  {
   "cell_type": "code",
   "execution_count": 33,
   "metadata": {},
   "outputs": [],
   "source": [
    "def find_by_name(name):\n",
    "    with app.app_context():\n",
    "        swimmer = Swimmer.query.filter_by(_name=name).first()\n",
    "    return swimmer "
   ]
  },
  {
   "cell_type": "code",
   "execution_count": 34,
   "metadata": {},
   "outputs": [
    {
     "name": "stdout",
     "output_type": "stream",
     "text": [
      "Created\n",
      " {'id': 7, 'name': 'Matt Biondi', 'speed': 48.63, 'height': 6.7, 'weight': 209}\n"
     ]
    }
   ],
   "source": [
    "def create():\n",
    "    name = input(\"Enter Swimmer name:\")\n",
    "    swimmer = find_by_name(name)\n",
    "    try:\n",
    "        print(\"Swimmer Found\\n\", name.read())\n",
    "        return\n",
    "    except:\n",
    "        pass \n",
    "    \n",
    "    speed = input(\"Enter Swimmer speed:\")\n",
    "    height = input(\"Enter Swimmer height:\")\n",
    "    weight = input(\"Enter Swimmer weight:\")\n",
    "    \n",
    "    swimmer = Swimmer(name=name, \n",
    "                speed=speed, \n",
    "                height=height,\n",
    "                weight=weight\n",
    "                )\n",
    "    \n",
    "    with app.app_context():\n",
    "        try:\n",
    "            object = swimmer.create()\n",
    "            print(\"Created\\n\", object.read())\n",
    "        except:\n",
    "            print(\"Unknown error name {name}\")\n",
    "        \n",
    "create()"
   ]
  },
  {
   "cell_type": "code",
   "execution_count": 35,
   "metadata": {},
   "outputs": [
    {
     "data": {
      "text/plain": [
       "[{'id': 1,\n",
       "  'name': 'Caeleb Dressel',\n",
       "  'speed': 47.02,\n",
       "  'height': 6.3,\n",
       "  'weight': 194},\n",
       " {'id': 2,\n",
       "  'name': 'Alain Bernard',\n",
       "  'speed': 47.21,\n",
       "  'height': 6.5,\n",
       "  'weight': 200},\n",
       " {'id': 3,\n",
       "  'name': 'Nathan Adrian',\n",
       "  'speed': 47.52,\n",
       "  'height': 6.6,\n",
       "  'weight': 227},\n",
       " {'id': 4,\n",
       "  'name': 'Kyle Chalmers',\n",
       "  'speed': 47.58,\n",
       "  'height': 6.4,\n",
       "  'weight': 198},\n",
       " {'id': 5,\n",
       "  'name': 'Pieter Hoogenband',\n",
       "  'speed': 48.17,\n",
       "  'height': 6.4,\n",
       "  'weight': 180},\n",
       " {'id': 6,\n",
       "  'name': 'Alexander Popov',\n",
       "  'speed': 48.74,\n",
       "  'height': 6.5,\n",
       "  'weight': 192},\n",
       " {'id': 7,\n",
       "  'name': 'Matt Biondi',\n",
       "  'speed': 48.63,\n",
       "  'height': 6.7,\n",
       "  'weight': 209}]"
      ]
     },
     "execution_count": 35,
     "metadata": {},
     "output_type": "execute_result"
    }
   ],
   "source": [
    "def read():\n",
    "    with app.app_context():\n",
    "        table = Swimmer.query.all()\n",
    "    json_ready = [swimmer.read() for swimmer in table]\n",
    "    return json_ready\n",
    "\n",
    "read()"
   ]
  },
  {
   "cell_type": "code",
   "execution_count": 36,
   "metadata": {},
   "outputs": [
    {
     "data": {
      "text/plain": [
       "'Matt Biondi at id 7 has been updated'"
      ]
     },
     "execution_count": 36,
     "metadata": {},
     "output_type": "execute_result"
    }
   ],
   "source": [
    "def update():\n",
    "    name = str(input(\"Who do you want to edit?\"))\n",
    "    speed = float(input(\"Enter the swimmer's new speed\"))\n",
    "    height = float(input(\"Enter the swimmer's new height\"))\n",
    "    weight = int(input(\"Enter the swimmer's new weight\"))\n",
    "    body = {\n",
    "        \"name\": name,\n",
    "        \"data\": {\"speed\": speed, \"height\": height, \"weight\": weight}\n",
    "    }\n",
    "    data = body.get('data')\n",
    "    swimmer = find_by_name(name)\n",
    "    with app.app_context():\n",
    "        swimmer.update(data)\n",
    "        db.session.commit()\n",
    "    return f\"{swimmer.name} at id {swimmer.id} has been updated\"\n",
    "update()"
   ]
  },
  {
   "cell_type": "code",
   "execution_count": 37,
   "metadata": {},
   "outputs": [
    {
     "data": {
      "text/plain": [
       "[{'id': 1,\n",
       "  'name': 'Caeleb Dressel',\n",
       "  'speed': 47.02,\n",
       "  'height': 6.3,\n",
       "  'weight': 194},\n",
       " {'id': 2,\n",
       "  'name': 'Alain Bernard',\n",
       "  'speed': 47.21,\n",
       "  'height': 6.5,\n",
       "  'weight': 200},\n",
       " {'id': 3,\n",
       "  'name': 'Nathan Adrian',\n",
       "  'speed': 47.52,\n",
       "  'height': 6.6,\n",
       "  'weight': 227},\n",
       " {'id': 4,\n",
       "  'name': 'Kyle Chalmers',\n",
       "  'speed': 47.58,\n",
       "  'height': 6.4,\n",
       "  'weight': 198},\n",
       " {'id': 5,\n",
       "  'name': 'Pieter Hoogenband',\n",
       "  'speed': 48.17,\n",
       "  'height': 6.4,\n",
       "  'weight': 180},\n",
       " {'id': 6,\n",
       "  'name': 'Alexander Popov',\n",
       "  'speed': 48.74,\n",
       "  'height': 6.5,\n",
       "  'weight': 192},\n",
       " {'id': 7, 'name': 'Matt Biondi', 'speed': 48.6, 'height': 6.7, 'weight': 210}]"
      ]
     },
     "execution_count": 37,
     "metadata": {},
     "output_type": "execute_result"
    }
   ],
   "source": [
    "# read all swimmers \n",
    "read()"
   ]
  },
  {
   "cell_type": "code",
   "execution_count": 38,
   "metadata": {},
   "outputs": [
    {
     "data": {
      "text/plain": [
       "'Matt Biondi at id 7 has been deleted'"
      ]
     },
     "execution_count": 38,
     "metadata": {},
     "output_type": "execute_result"
    }
   ],
   "source": [
    "def delete():\n",
    "    name = str(input(\"Who do you want to delete?\"))\n",
    "    swimmer = find_by_name(name)\n",
    "    with app.app_context():\n",
    "        swimmer.delete()\n",
    "    return f\"{swimmer.name} at id {swimmer.id} has been deleted\"\n",
    "\n",
    "delete()"
   ]
  },
  {
   "cell_type": "code",
   "execution_count": 39,
   "metadata": {},
   "outputs": [
    {
     "data": {
      "text/plain": [
       "[{'id': 1,\n",
       "  'name': 'Caeleb Dressel',\n",
       "  'speed': 47.02,\n",
       "  'height': 6.3,\n",
       "  'weight': 194},\n",
       " {'id': 2,\n",
       "  'name': 'Alain Bernard',\n",
       "  'speed': 47.21,\n",
       "  'height': 6.5,\n",
       "  'weight': 200},\n",
       " {'id': 3,\n",
       "  'name': 'Nathan Adrian',\n",
       "  'speed': 47.52,\n",
       "  'height': 6.6,\n",
       "  'weight': 227},\n",
       " {'id': 4,\n",
       "  'name': 'Kyle Chalmers',\n",
       "  'speed': 47.58,\n",
       "  'height': 6.4,\n",
       "  'weight': 198},\n",
       " {'id': 5,\n",
       "  'name': 'Pieter Hoogenband',\n",
       "  'speed': 48.17,\n",
       "  'height': 6.4,\n",
       "  'weight': 180},\n",
       " {'id': 6,\n",
       "  'name': 'Alexander Popov',\n",
       "  'speed': 48.74,\n",
       "  'height': 6.5,\n",
       "  'weight': 192}]"
      ]
     },
     "execution_count": 39,
     "metadata": {},
     "output_type": "execute_result"
    }
   ],
   "source": [
    "# read all swimmers \n",
    "read()"
   ]
  }
 ],
 "metadata": {
  "kernelspec": {
   "display_name": "base",
   "language": "python",
   "name": "python3"
  },
  "language_info": {
   "codemirror_mode": {
    "name": "ipython",
    "version": 3
   },
   "file_extension": ".py",
   "mimetype": "text/x-python",
   "name": "python",
   "nbconvert_exporter": "python",
   "pygments_lexer": "ipython3",
   "version": "3.9.12"
  },
  "orig_nbformat": 4
 },
 "nbformat": 4,
 "nbformat_minor": 2
}
