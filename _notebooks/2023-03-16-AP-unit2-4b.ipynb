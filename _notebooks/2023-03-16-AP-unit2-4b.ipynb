{
 "cells": [
  {
   "attachments": {},
   "cell_type": "markdown",
   "metadata": {},
   "source": [
    "#  Unit 2.4b Using Programs with Data, SQL\n",
    "> Using Programs with Data is focused on SQL and database actions.  Part B focuses on learning SQL commands, connections, and curses using an Imperative programming style,\n",
    "- toc: true\n",
    "- image: /images/python.png\n",
    "- categories: []\n",
    "- type: ap\n",
    "- week: 26"
   ]
  },
  {
   "attachments": {},
   "cell_type": "markdown",
   "metadata": {},
   "source": [
    "# Database Programming is Program with Data\n",
    "> Each Tri 2 Final Project should be an example of a Program with Data. \n",
    "\n",
    ">  Prepare to use SQLite in common Imperative Technique\n",
    "- Explore [SQLite Connect object](https://www.tutorialspoint.com/python_data_access/python_sqlite_establishing_connection.htm) to establish database connection\n",
    "- Explore [SQLite Cursor Object](https://www.tutorialspoint.com/python_data_access/python_sqlite_cursor_object.htm) to fetch data from a table within a database\n"
   ]
  },
  {
   "attachments": {},
   "cell_type": "markdown",
   "metadata": {},
   "source": [
    "## Schema of Users table in Sqlite.db\n",
    "> Uses PRAGMA statement to read schema.\n",
    "\n",
    "Describe Schema, here is resource [Resource](https://www.sqlite.org/index.html)\n",
    "- What is a database schema?\n",
    "    - *The database schema is the structure of a database described in a language supported by the database management system. The term schema refers to the organization of data as of how the database is constructed.*\n",
    "- What is the purpose of identity Column in SQL database?\n",
    "    - *The Identity columns can be used for generating key values. The identity property on a column guarantees the following: Each new value is generated based on the current seed value increment. Each new value for a particular transaction is different from other concurrent transactions on the table.*\n",
    "- What is the purpose of a primary key in SQL database?\n",
    "    - *A primary key is the column or columns that contain values that uniquely identify each row in a table. A primary key is needed: To extract or archive data from a table that is visited more than once during a process*\n",
    "- What are the Data Types in SQL table?\n",
    "    - *Data types are hte diffrent types the data stored can be represented. For example, Numeric data types such as: INT , TINYINT , BIGINT , FLOAT , REAL , etc. Date and Time data types such as: DATE , TIME , DATETIME , etc. Character and String data types such as: CHAR , VARCHAR, TEXT*"
   ]
  },
  {
   "cell_type": "code",
   "execution_count": 4,
   "metadata": {},
   "outputs": [
    {
     "name": "stdout",
     "output_type": "stream",
     "text": [
      "(0, 'id', 'INTEGER', 1, None, 1)\n",
      "(1, '_name', 'VARCHAR(255)', 1, None, 0)\n",
      "(2, '_uid', 'VARCHAR(255)', 1, None, 0)\n",
      "(3, '_password', 'VARCHAR(255)', 1, None, 0)\n",
      "(4, '_dob', 'DATE', 0, None, 0)\n"
     ]
    }
   ],
   "source": [
    "import sqlite3\n",
    "\n",
    "database = 'instance/sqlite.db' # this is location of database\n",
    "\n",
    "def schema():\n",
    "    \n",
    "    # Connect to the database file\n",
    "    conn = sqlite3.connect(database)\n",
    "\n",
    "    # Create a cursor object to execute SQL queries\n",
    "    cursor = conn.cursor()\n",
    "    \n",
    "    # Fetch results of Schema\n",
    "    results = cursor.execute(\"PRAGMA table_info('users')\").fetchall()\n",
    "\n",
    "    # Print the results\n",
    "    for row in results:\n",
    "        print(row)\n",
    "\n",
    "    # Close the database  connection\n",
    "    conn.close()\n",
    "    \n",
    "schema()\n"
   ]
  },
  {
   "attachments": {},
   "cell_type": "markdown",
   "metadata": {},
   "source": [
    "## Reading Users table in Sqlite.db\n",
    "> Uses SQL SELECT statement to read data\n",
    "\n",
    "- What is a connection object?  After you google it, what do you think it does?\n",
    "    - *Connection Object is used to create a connection between the SQL database and Python, the connect() method of sqlite3 module is used for establishing the DB connection wit Pyhton*\n",
    "- Same for cursor object?\n",
    "    - *The sqlite3 Cursor class is an instance using which we can invoke methods that execute SQLite statements, fetch data from the result sets of the queries.*\n",
    "- Look at conn object and cursor object in VSCode debugger.  What attributes are in the object?\n",
    "    - *cursor has arraysize, lastrowid, rowcount, description, rowcount, connection*\n",
    "    - *connection has commit, rollback, execute, in_transaction, total_changes attributes*\n",
    "- Is \"results\" an object?  How do you know?\n",
    "    - *results is a list. From the documentation of cursor.fetchall() would return all (remaining) rows of a query result as a list*"
   ]
  },
  {
   "cell_type": "code",
   "execution_count": 5,
   "metadata": {},
   "outputs": [
    {
     "name": "stdout",
     "output_type": "stream",
     "text": [
      "(1, 'Thomas Edison', 'toby', 'sha256$ubNqz5qyGetKm61B$fb3345bce5db4ede267c70b280700ae43e9515cc6951cd1afbc86c3cef42ac4e', '1847-02-11')\n",
      "(2, 'Nikola Tesla', 'niko', 'sha256$QDA6WYHbyJf9RwXe$537bb77316be3b9180f88c79e1418f94ca4e0136df8da451417484171084fedc', '2023-03-18')\n",
      "(3, 'Alexander Graham Bell', 'lex', 'sha256$KlTd7x7ZUV2GVs2h$81d00c918e7fd69d267316e0b14632f2550c151a83696ae4c3186435e1886c02', '2023-03-18')\n",
      "(4, 'Eli Whitney', 'whit', 'sha256$jlxwEaX6hZeFl4lP$0f585d89b75b5eefed21176ba81c4b480ab7d6ea96d93507e5fedf9da2db19ed', '2023-03-18')\n",
      "(5, 'Indiana Jones', 'indi', 'sha256$lBOKW15ivcc8iS4r$c1c055e2e235799fa47d515c95b75fbacbb1cc01f098fc431ebddfc795aab67e', '1920-10-21')\n",
      "(6, 'Marion Ravenwood', 'raven', 'sha256$uIP0WCU6rwV6v3Gb$6a25315bd31d4ab582fe4bef18aadac865a9985edb3fabb9cd2948d212cad41d', '1921-10-21')\n",
      "(7, 'Navan Yata', '7', 'sha256$hCkqiByHYZxVoKk2$4e7e15f9fb8d2451a0a6cdfcdb478d58cb4a12ecaf56089eaca56447c2b02383', '2003-10-31')\n"
     ]
    }
   ],
   "source": [
    "import sqlite3\n",
    "\n",
    "def read():\n",
    "    # Connect to the database file\n",
    "    conn = sqlite3.connect(database)\n",
    "\n",
    "    # Create a cursor object to execute SQL queries\n",
    "    cursor = conn.cursor()\n",
    "    \n",
    "    # Execute a SELECT statement to retrieve data from a table\n",
    "    results = cursor.execute('SELECT * FROM users').fetchall()\n",
    "\n",
    "    # Print the results\n",
    "    if len(results) == 0:\n",
    "        print(\"Table is empty\")\n",
    "    else:\n",
    "        for row in results:\n",
    "            print(row)\n",
    "\n",
    "    # Close the cursor and connection objects\n",
    "    cursor.close()\n",
    "    conn.close()\n",
    "    \n",
    "read()\n"
   ]
  },
  {
   "attachments": {},
   "cell_type": "markdown",
   "metadata": {},
   "source": [
    "## Create a new User in table in Sqlite.db\n",
    "> Uses SQL INSERT to add row\n",
    "-  Compore create() in both SQL lessons.  What is better or worse in the two implementations?\n",
    "    - *create here is done with connect to db and get cursor and execute an SQL statement with commit. This would assume the user to know SQL query language. Debug and error handling may be much precise*\n",
    "    - *create in earlier section was done with Python classes. I feel this is much cleaner since this hides all the SQL calls to the DB. Also this leads to cleaner code*\n",
    "-  Explain purpose of SQL INSERT.   Is this the same as User __init__?\n",
    "    - *The INSERT INTO statement is used to insert new records in a table. This is not the same as __init__*"
   ]
  },
  {
   "cell_type": "code",
   "execution_count": 6,
   "metadata": {},
   "outputs": [],
   "source": [
    "import sqlite3\n",
    "\n",
    "def create():\n",
    "    name = input(\"Enter your name:\")\n",
    "    uid = input(\"Enter your user id:\")\n",
    "    password = input(\"Enter your password\")\n",
    "    dob = input(\"Enter your date of birth 'YYYY-MM-DD'\")\n",
    "    \n",
    "    # Connect to the database file\n",
    "    conn = sqlite3.connect(database)\n",
    "\n",
    "    # Create a cursor object to execute SQL commands\n",
    "    cursor = conn.cursor()\n",
    "\n",
    "    try:\n",
    "        # Execute an SQL command to insert data into a table\n",
    "        cursor.execute(\"INSERT INTO users (_name, _uid, _password, _dob) VALUES (?, ?, ?, ?)\", (name, uid, password, dob))\n",
    "        \n",
    "        # Commit the changes to the database\n",
    "        conn.commit()\n",
    "        print(f\"A new user record {uid} has been created\")\n",
    "                \n",
    "    except sqlite3.Error as error:\n",
    "        print(\"Error while executing the INSERT:\", error)\n",
    "\n",
    "\n",
    "    # Close the cursor and connection objects\n",
    "    cursor.close()\n",
    "    conn.close()\n",
    "    \n",
    "#create()"
   ]
  },
  {
   "attachments": {},
   "cell_type": "markdown",
   "metadata": {},
   "source": [
    "## Updating a User in table in Sqlite.db\n",
    "> Uses SQL UPDATE to modify password\n",
    "- What does the hacked part do?\n",
    "    - *If the password length is less than 2 it prints gothackednewpassword123 message*\n",
    "- Explain try/except, when would except occur?\n",
    "    - *Except will execute when there is an Error while executing the UPDATE. The try block handle the UPDATE*\n",
    "- What code seems to be repeated in each of these examples to point, why is it repeated?\n",
    "    - *The connection connect, cursor,  and close are repeated. Since maybe dont want to keep the connection open*"
   ]
  },
  {
   "cell_type": "code",
   "execution_count": 7,
   "metadata": {},
   "outputs": [],
   "source": [
    "import sqlite3\n",
    "\n",
    "def update():\n",
    "    uid = input(\"Enter user id to update\")\n",
    "    password = input(\"Enter updated password\")\n",
    "    if len(password) < 2:\n",
    "        message = \"hacked\"\n",
    "        password = 'gothackednewpassword123'\n",
    "    else:\n",
    "        message = \"successfully updated\"\n",
    "\n",
    "    # Connect to the database file\n",
    "    conn = sqlite3.connect(database)\n",
    "\n",
    "    # Create a cursor object to execute SQL commands\n",
    "    cursor = conn.cursor()\n",
    "\n",
    "    try:\n",
    "        # Execute an SQL command to update data in a table\n",
    "        cursor.execute(\"UPDATE users SET _password = ? WHERE _uid = ?\", (password, uid))\n",
    "        if cursor.rowcount == 0:\n",
    "            # The uid was not found in the table\n",
    "            print(f\"No uid {uid} was not found in the table\")\n",
    "        else:\n",
    "            print(f\"The row with user id {uid} the password has been {message}\")\n",
    "            conn.commit()\n",
    "    except sqlite3.Error as error:\n",
    "        print(\"Error while executing the UPDATE:\", error)\n",
    "        \n",
    "    \n",
    "    # Close the cursor and connection objects\n",
    "    cursor.close()\n",
    "    conn.close()\n",
    "    \n",
    "#update()\n"
   ]
  },
  {
   "attachments": {},
   "cell_type": "markdown",
   "metadata": {},
   "source": [
    "## Delete a User in table in Sqlite.db\n",
    "> Uses a delete function to remove a user based on a user input of the id.\n",
    "- Is DELETE a dangerous operation?  Why?\n",
    "    - *Delete is not a dangerous operation if correctly used. But if input params are not checked correctly it may inadverently delete unwanted data and this may cause to lose data permanantly.*\n",
    "- In the print statemements, what is the \"f\" and what does {uid} do?\n",
    "    - *string formatting mechanism known as Literal String Interpolation or more commonly as F-strings. The idea behind f-strings is to make string interpolation simpler. The {uid} will print the literal uid value* "
   ]
  },
  {
   "cell_type": "code",
   "execution_count": 8,
   "metadata": {},
   "outputs": [],
   "source": [
    "import sqlite3\n",
    "\n",
    "def delete():\n",
    "    uid = input(\"Enter user id to delete\")\n",
    "\n",
    "    # Connect to the database file\n",
    "    conn = sqlite3.connect(database)\n",
    "\n",
    "    # Create a cursor object to execute SQL commands\n",
    "    cursor = conn.cursor()\n",
    "    \n",
    "    try:\n",
    "        cursor.execute(\"DELETE FROM users WHERE _uid = ?\", (uid,))\n",
    "        if cursor.rowcount == 0:\n",
    "            # The uid was not found in the table\n",
    "            print(f\"No uid {uid} was not found in the table\")\n",
    "        else:\n",
    "            # The uid was found in the table and the row was deleted\n",
    "            print(f\"The row with uid {uid} was successfully deleted\")\n",
    "        conn.commit()\n",
    "    except sqlite3.Error as error:\n",
    "        print(\"Error while executing the DELETE:\", error)\n",
    "        \n",
    "    # Close the cursor and connection objects\n",
    "    cursor.close()\n",
    "    conn.close()\n",
    "    \n",
    "#delete()"
   ]
  },
  {
   "attachments": {},
   "cell_type": "markdown",
   "metadata": {},
   "source": [
    "# Menu Interface to CRUD operations\n",
    "> CRUD and Schema interactions from one location by running menu. Observe input at the top of VSCode, observe output underneath code cell.\n",
    "- Why does the menu repeat?\n",
    "    - *Its recursively called when CRUDS choice is not entered or after the correct CRUDS operation was done*\n",
    "- Could you refactor this menu?  Make it work with a List?\n",
    "    - *List can have only the values but an hashtable can have value and function to call. Hashtable would make better sense*"
   ]
  },
  {
   "cell_type": "code",
   "execution_count": 9,
   "metadata": {},
   "outputs": [
    {
     "name": "stdout",
     "output_type": "stream",
     "text": [
      "(1, 'Thomas Edison', 'toby', 'sha256$ubNqz5qyGetKm61B$fb3345bce5db4ede267c70b280700ae43e9515cc6951cd1afbc86c3cef42ac4e', '1847-02-11')\n",
      "(2, 'Nikola Tesla', 'niko', 'sha256$QDA6WYHbyJf9RwXe$537bb77316be3b9180f88c79e1418f94ca4e0136df8da451417484171084fedc', '2023-03-18')\n",
      "(3, 'Alexander Graham Bell', 'lex', 'sha256$KlTd7x7ZUV2GVs2h$81d00c918e7fd69d267316e0b14632f2550c151a83696ae4c3186435e1886c02', '2023-03-18')\n",
      "(4, 'Eli Whitney', 'whit', 'sha256$jlxwEaX6hZeFl4lP$0f585d89b75b5eefed21176ba81c4b480ab7d6ea96d93507e5fedf9da2db19ed', '2023-03-18')\n",
      "(5, 'Indiana Jones', 'indi', 'sha256$lBOKW15ivcc8iS4r$c1c055e2e235799fa47d515c95b75fbacbb1cc01f098fc431ebddfc795aab67e', '1920-10-21')\n",
      "(6, 'Marion Ravenwood', 'raven', 'sha256$uIP0WCU6rwV6v3Gb$6a25315bd31d4ab582fe4bef18aadac865a9985edb3fabb9cd2948d212cad41d', '1921-10-21')\n",
      "(7, 'Navan Yata', '7', 'sha256$hCkqiByHYZxVoKk2$4e7e15f9fb8d2451a0a6cdfcdb478d58cb4a12ecaf56089eaca56447c2b02383', '2003-10-31')\n",
      "A new user record 8 has been created\n",
      "(1, 'Thomas Edison', 'toby', 'sha256$ubNqz5qyGetKm61B$fb3345bce5db4ede267c70b280700ae43e9515cc6951cd1afbc86c3cef42ac4e', '1847-02-11')\n",
      "(2, 'Nikola Tesla', 'niko', 'sha256$QDA6WYHbyJf9RwXe$537bb77316be3b9180f88c79e1418f94ca4e0136df8da451417484171084fedc', '2023-03-18')\n",
      "(3, 'Alexander Graham Bell', 'lex', 'sha256$KlTd7x7ZUV2GVs2h$81d00c918e7fd69d267316e0b14632f2550c151a83696ae4c3186435e1886c02', '2023-03-18')\n",
      "(4, 'Eli Whitney', 'whit', 'sha256$jlxwEaX6hZeFl4lP$0f585d89b75b5eefed21176ba81c4b480ab7d6ea96d93507e5fedf9da2db19ed', '2023-03-18')\n",
      "(5, 'Indiana Jones', 'indi', 'sha256$lBOKW15ivcc8iS4r$c1c055e2e235799fa47d515c95b75fbacbb1cc01f098fc431ebddfc795aab67e', '1920-10-21')\n",
      "(6, 'Marion Ravenwood', 'raven', 'sha256$uIP0WCU6rwV6v3Gb$6a25315bd31d4ab582fe4bef18aadac865a9985edb3fabb9cd2948d212cad41d', '1921-10-21')\n",
      "(7, 'Navan Yata', '7', 'sha256$hCkqiByHYZxVoKk2$4e7e15f9fb8d2451a0a6cdfcdb478d58cb4a12ecaf56089eaca56447c2b02383', '2003-10-31')\n",
      "(8, 'Bee Badger', '8', 'passwd', '2006-10-30')\n",
      "The row with uid 8 was successfully deleted\n",
      "(1, 'Thomas Edison', 'toby', 'sha256$ubNqz5qyGetKm61B$fb3345bce5db4ede267c70b280700ae43e9515cc6951cd1afbc86c3cef42ac4e', '1847-02-11')\n",
      "(2, 'Nikola Tesla', 'niko', 'sha256$QDA6WYHbyJf9RwXe$537bb77316be3b9180f88c79e1418f94ca4e0136df8da451417484171084fedc', '2023-03-18')\n",
      "(3, 'Alexander Graham Bell', 'lex', 'sha256$KlTd7x7ZUV2GVs2h$81d00c918e7fd69d267316e0b14632f2550c151a83696ae4c3186435e1886c02', '2023-03-18')\n",
      "(4, 'Eli Whitney', 'whit', 'sha256$jlxwEaX6hZeFl4lP$0f585d89b75b5eefed21176ba81c4b480ab7d6ea96d93507e5fedf9da2db19ed', '2023-03-18')\n",
      "(5, 'Indiana Jones', 'indi', 'sha256$lBOKW15ivcc8iS4r$c1c055e2e235799fa47d515c95b75fbacbb1cc01f098fc431ebddfc795aab67e', '1920-10-21')\n",
      "(6, 'Marion Ravenwood', 'raven', 'sha256$uIP0WCU6rwV6v3Gb$6a25315bd31d4ab582fe4bef18aadac865a9985edb3fabb9cd2948d212cad41d', '1921-10-21')\n",
      "(7, 'Navan Yata', '7', 'sha256$hCkqiByHYZxVoKk2$4e7e15f9fb8d2451a0a6cdfcdb478d58cb4a12ecaf56089eaca56447c2b02383', '2003-10-31')\n",
      "(0, 'id', 'INTEGER', 1, None, 1)\n",
      "(1, '_name', 'VARCHAR(255)', 1, None, 0)\n",
      "(2, '_uid', 'VARCHAR(255)', 1, None, 0)\n",
      "(3, '_password', 'VARCHAR(255)', 1, None, 0)\n",
      "(4, '_dob', 'DATE', 0, None, 0)\n"
     ]
    }
   ],
   "source": [
    "# Menu, to run other cells from one control point\n",
    "def menu():\n",
    "    operation = input(\"Enter: (C)reate (R)ead (U)pdate or (D)elete or (S)chema\")\n",
    "    if operation.lower() == 'c':\n",
    "        create()\n",
    "    elif operation.lower() == 'r':\n",
    "        read()\n",
    "    elif operation.lower() == 'u':\n",
    "        update()\n",
    "    elif operation.lower() == 'd':\n",
    "        delete()\n",
    "    elif operation.lower() == 's':\n",
    "        schema()\n",
    "    elif len(operation)==0: # Escape Key\n",
    "        return\n",
    "    else:\n",
    "        print(\"Please enter c, r, u, or d\") \n",
    "    menu() # recursion, repeat menu\n",
    "        \n",
    "try:\n",
    "    menu() # start menu\n",
    "except:\n",
    "    print(\"Perform Jupyter 'Run All' prior to starting menu\")\n"
   ]
  },
  {
   "attachments": {},
   "cell_type": "markdown",
   "metadata": {},
   "source": [
    "# Hacks\n",
    "- Add this Blog to you own Blogging site.  In the Blog add notes and observations on each code cell.\n",
    "- In this implementation, do you see procedural abstraction?\n",
    "- In 2.4a or 2.4b lecture\n",
    "    - Do you see data abstraction?  Complement this with Debugging example.\n",
    "    - Use Imperative or OOP style to Create a new Table or do something that applies to your CPT project.\n",
    "    \n",
    "\n",
    "Reference... [sqlite documentation](https://www.sqlitetutorial.net/sqlite-python/creating-tables/)\n"
   ]
  }
 ],
 "metadata": {
  "kernelspec": {
   "display_name": "base",
   "language": "python",
   "name": "python3"
  },
  "language_info": {
   "codemirror_mode": {
    "name": "ipython",
    "version": 3
   },
   "file_extension": ".py",
   "mimetype": "text/x-python",
   "name": "python",
   "nbconvert_exporter": "python",
   "pygments_lexer": "ipython3",
   "version": "3.9.12"
  },
  "orig_nbformat": 4,
  "vscode": {
   "interpreter": {
    "hash": "8b82d5009c68ba5675978267e2b13a671f2a7143d61273c5a3813c97e0b2493d"
   }
  }
 },
 "nbformat": 4,
 "nbformat_minor": 2
}
