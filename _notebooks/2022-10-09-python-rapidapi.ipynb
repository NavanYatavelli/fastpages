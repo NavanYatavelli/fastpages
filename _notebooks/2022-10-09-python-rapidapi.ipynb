{
 "cells": [
  {
   "cell_type": "markdown",
   "metadata": {},
   "source": [
    "# Python Rapid API - Elementary School Friendly"
   ]
  },
  {
   "cell_type": "markdown",
   "metadata": {},
   "source": [
    "Python Rapid API that filters out words that are not safe for elementary school kids"
   ]
  },
  {
   "cell_type": "markdown",
   "metadata": {},
   "source": [
    "This is the Python Rapid API example using the PURGOMALUM API to filter some words with * that are not safe for elementary school kids"
   ]
  },
  {
   "cell_type": "code",
   "execution_count": 20,
   "metadata": {},
   "outputs": [
    {
     "name": "stdout",
     "output_type": "stream",
     "text": [
      "Original sentence: This is bloody hell !!!\n",
      "Elementary school friendly sentence: \n",
      "This is ****** **** !!!\n",
      "\n",
      "\n",
      "Original sentence: Holy cow is not a right phrase for elementary schools kids\n",
      "Elementary school friendly sentence: \n",
      "Holy *** is not a right phrase for elementary schools kids\n",
      "\n",
      "\n",
      "Original sentence: Crap - is not a right word that elementary school kids should use\n",
      "Elementary school friendly sentence: \n",
      "**** - is not a right word that elementary school kids should use\n",
      "\n",
      "\n",
      "Original sentence: God damn it -- where is hte ice-cream?\n",
      "Elementary school friendly sentence: \n",
      "*********** -- where is hte ice-cream?\n",
      "\n",
      "\n",
      "Original sentence: Phrase Jesus christ should not used in vain\n",
      "Elementary school friendly sentence: \n",
      "Phrase ***** christ should not used in vain\n",
      "\n",
      "\n",
      "Original sentence: Highway to Hell was the song from AC/DC\n",
      "Elementary school friendly sentence: \n",
      "Highway to **** was the song from AC/DC\n",
      "\n",
      "\n",
      "Original sentence: Dawn of the dead is an scary movie\n",
      "Elementary school friendly sentence: \n",
      "Dawn of the **** is an scary movie\n",
      "\n",
      "\n"
     ]
    }
   ],
   "source": [
    "\"\"\"\n",
    "Requests is a HTTP library for the Python programming language. \n",
    "\"\"\"\n",
    "import requests\n",
    "\n",
    "# url for JSON Rapid API service\n",
    "url = \"https://www.purgomalum.com/service/json\"\n",
    "\n",
    "# add some banned words to filter from sentences\n",
    "banned_words = \"bloody,bugger,cow,crap,damn,god,goddam,jesus,hell,dead\"\n",
    "response = None\n",
    "\n",
    "# builds the HTTP GET request with parameters and prints response\n",
    "def get_response(sentence): # sentence to be filtered\n",
    "    parameters = { #http GET parameters\n",
    "        'add': banned_words,\n",
    "        'text': sentence\n",
    "    }    \n",
    "    # Request filtered sentence\n",
    "    response = requests.request(\"GET\", url, params=parameters)  \n",
    "    print(\"Original sentence: \" + sentence)\n",
    "    print(\"Elementary school friendly sentence: \")\n",
    "    print(response.json().get('result'))\n",
    "    print(\"\\n\")\n",
    "    \n",
    "# array of orginal sentences \n",
    "sentence_array = [\n",
    "    \"This is bloody hell !!!\",\n",
    "    \"Holy cow is not a right phrase for elementary schools kids\",\n",
    "    \"Crap - is not a right word that elementary school kids should use\",\n",
    "    \"God damn it -- where is hte ice-cream?\",\n",
    "    \"Phrase Jesus christ should not used in vain\",\n",
    "    \"Highway to Hell was the song from AC/DC\",\n",
    "    \"Dawn of the dead is an scary movie\"\n",
    "]\n",
    "\n",
    "# Filter each sentence in the array\n",
    "for row in sentence_array:\n",
    "    get_response(row)"
   ]
  }
 ],
 "metadata": {
  "kernelspec": {
   "display_name": "Python 3.10.4 64-bit",
   "language": "python",
   "name": "python3"
  },
  "language_info": {
   "codemirror_mode": {
    "name": "ipython",
    "version": 3
   },
   "file_extension": ".py",
   "mimetype": "text/x-python",
   "name": "python",
   "nbconvert_exporter": "python",
   "pygments_lexer": "ipython3",
   "version": "3.10.4"
  },
  "orig_nbformat": 4,
  "vscode": {
   "interpreter": {
    "hash": "916dbcbb3f70747c44a77c7bcd40155683ae19c65e1c03b4aa3499c5328201f1"
   }
  }
 },
 "nbformat": 4,
 "nbformat_minor": 2
}
