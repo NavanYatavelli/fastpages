{
 "cells": [
  {
   "attachments": {},
   "cell_type": "markdown",
   "metadata": {},
   "source": [
    "# Model and (OOP) Object Oriented Programming"
   ]
  },
  {
   "attachments": {},
   "cell_type": "markdown",
   "metadata": {},
   "source": [
    "##### OOP Object Oriented Programming concepts of being able to program objects is a must for learning Python. This blog's goal is to introduce OOP in preparation for the PBL challenge of building a database. Understanding instance data and methods and establishing a class are the building blocks of a database. Backend code frequently focuses on databases since they can store persistent data that can be retrieved even after the current session has ended."
   ]
  },
  {
   "attachments": {},
   "cell_type": "markdown",
   "metadata": {},
   "source": [
    "### HACKS (Comments & Changes)\n"
   ]
  },
  {
   "cell_type": "code",
   "execution_count": 1,
   "metadata": {},
   "outputs": [
    {
     "name": "stdout",
     "output_type": "stream",
     "text": [
      "JSON ready string:\n",
      " {\"name\": \"Tom Brady\", \"uid\": \"tom\", \"dob\": \"02-11-1995\", \"age\": 27, \"touchdowns\": 1000} \n",
      "\n",
      "Raw Variables of object:\n",
      " {'_name': 'Tom Brady', '_uid': 'tom', '_password': b'\\xbax\\x16\\xbf\\x8f\\x01\\xcf\\xeaAA@\\xde]\\xae\"#\\xb0\\x03a\\xa3\\x96\\x17z\\x9c\\xb4\\x10\\xffa\\xf2\\x00\\x15\\xad', '_dob': datetime.date(1995, 2, 11), '_touchdowns': 1000} \n",
      "\n",
      "Raw Attributes and Methods of object:\n",
      " ['__class__', '__delattr__', '__dict__', '__dir__', '__doc__', '__eq__', '__format__', '__ge__', '__getattribute__', '__gt__', '__hash__', '__init__', '__init_subclass__', '__le__', '__lt__', '__module__', '__ne__', '__new__', '__reduce__', '__reduce_ex__', '__repr__', '__setattr__', '__sizeof__', '__str__', '__subclasshook__', '__weakref__', '_dob', '_name', '_password', '_touchdowns', '_uid', 'age', 'calculate_age', 'dictionary', 'dob', 'is_password', 'is_uid', 'name', 'set_password', 'touchdowns', 'uid'] \n",
      "\n",
      "Representation to Re-Create the object:\n",
      " User(name=Tom Brady, uid=tom, password=b'\\xbax\\x16\\xbf\\x8f\\x01\\xcf\\xeaAA@\\xde]\\xae\"#\\xb0\\x03a\\xa3\\x96\\x17z\\x9c\\xb4\\x10\\xffa\\xf2\\x00\\x15\\xad',dob=1995-02-11, touchdowns=1000) \n",
      "\n",
      "CRUD: CREATE few users:\n",
      "\n",
      "CREATE:\n",
      " {\"name\": \"P Manning\", \"uid\": \"man\", \"dob\": \"02-23-1997\", \"age\": 25, \"touchdowns\": 900} \n",
      "\n",
      "CREATE:\n",
      " {\"name\": \"Donovan\", \"uid\": \"don\", \"dob\": \"02-23-1990\", \"age\": 32, \"touchdowns\": 50} \n",
      "\n",
      "\n",
      "READ:\n",
      " {\"name\": \"McNab\", \"uid\": \"mac\", \"dob\": \"02-02-1998\", \"age\": 24, \"touchdowns\": 600} \n",
      "\n",
      "UPDATE:\n",
      " {\"name\": \"McNab\", \"uid\": \"mac\", \"dob\": \"02-02-1998\", \"age\": 24, \"touchdowns\": 601} \n",
      "\n"
     ]
    }
   ],
   "source": [
    "from datetime import date\n",
    "import json\n",
    "# Code using HASHLIB instead of werkzeug.security\n",
    "import hashlib\n",
    "\n",
    "# Class definition\n",
    "# A User class with data to manage\n",
    "class User:    \n",
    "\n",
    "    def __init__(self, name, uid, password, dob, touchdowns):\n",
    "        self._name = name    # variables \n",
    "        self._uid = uid\n",
    "        self.set_password(password)\n",
    "        self._dob = dob\n",
    "        self._touchdowns = touchdowns\n",
    "\n",
    "    @property\n",
    "    def touchdowns(self):\n",
    "        return self._touchdowns\n",
    "    \n",
    "    # a setter function, touchdowns to be updated\n",
    "    @touchdowns.setter\n",
    "    def touchdowns(self, touchdowns):\n",
    "        self._touchdowns = touchdowns\n",
    "        \n",
    "    @property\n",
    "    def name(self):\n",
    "        return self._name\n",
    "    \n",
    "    # a setter function, lets name to be updated\n",
    "    @name.setter\n",
    "    def name(self, name):\n",
    "        self._name = name\n",
    "    \n",
    "    # a getter method, extracts email from object\n",
    "    @property\n",
    "    def uid(self):\n",
    "        return self._uid\n",
    "    \n",
    "    # a setter function, allows name to be updated after initial object creation\n",
    "    @uid.setter\n",
    "    def uid(self, uid):\n",
    "        self._uid = uid\n",
    "        \n",
    "    # check if uid parameter matches user id in object, return boolean\n",
    "    def is_uid(self, uid):\n",
    "        return self._uid == uid\n",
    "    \n",
    "    # dob property is returned as string, to avoid unfriendly outcomes\n",
    "    @property\n",
    "    def dob(self):\n",
    "        dob_string = self._dob.strftime('%m-%d-%Y')\n",
    "        return dob_string\n",
    "    \n",
    "    # dob should be have verification for type date\n",
    "    @dob.setter\n",
    "    def dob(self, dob):\n",
    "        self._dob = dob\n",
    "        \n",
    "    # age is calculated and returned each time it is accessed\n",
    "    @property\n",
    "    def age(self):\n",
    "        today = date.today()\n",
    "        return today.year - self._dob.year - ((today.month, today.day) < (self._dob.month, self._dob.day))\n",
    "    \n",
    "    # dictionary is customized, removing password for security purposes\n",
    "    @property\n",
    "    def dictionary(self):\n",
    "        dict = {\n",
    "            \"name\" : self.name,\n",
    "            \"uid\" : self.uid,\n",
    "            \"dob\" : self.dob,\n",
    "            \"age\" : self.age,\n",
    "            \"touchdowns\" : self._touchdowns\n",
    "        }\n",
    "        return dict\n",
    "    \n",
    "    # update password, this is conventional setter\n",
    "    def set_password(self, password):\n",
    "        \"\"\"Create a hashed password.\"\"\"\n",
    "        #self._password = generate_password_hash(password, method='sha256')\n",
    "        # Code using HASHLIB instead of werkzeug.security\n",
    "        self._password = hashlib.sha256(password.encode('utf-8')).digest()\n",
    "\n",
    "    # check password parameter versus stored/encrypted password\n",
    "    def is_password(self, password):\n",
    "        \"\"\"Check against hashed password.\"\"\"\n",
    "        #result = check_password_hash(self._password, password)\n",
    "        # Code using HASHLIB instead of werkzeug.security\n",
    "        result = (self._password == hashlib.sha256(password.encode('utf-8')).digest())\n",
    "        return result\n",
    "    \n",
    "    # output content using json dumps, this is ready for API response\n",
    "    def __str__(self):\n",
    "        return json.dumps(self.dictionary)\n",
    "    \n",
    "    # output command to recreate the object, uses attribute directly\n",
    "    def __repr__(self):\n",
    "        return f'User(name={self._name}, uid={self._uid}, password={self._password},dob={self._dob}, touchdowns={self._touchdowns})'\n",
    "    \n",
    "    # function added to calculate age\n",
    "    def calculate_age(born):\n",
    "        today = date.today()\n",
    "        return today.year - born.year - ((today.month, today.day) < (born.month, born.day))\n",
    "\n",
    "if __name__ == \"__main__\":\n",
    "    u1 = User(name='Tom Brady', uid='tom', password='abc', dob=date(1995, 2, 11), touchdowns=1000)\n",
    "    print(\"JSON ready string:\\n\", u1, \"\\n\") \n",
    "    print(\"Raw Variables of object:\\n\", vars(u1), \"\\n\") \n",
    "    print(\"Raw Attributes and Methods of object:\\n\", dir(u1), \"\\n\")\n",
    "    print(\"Representation to Re-Create the object:\\n\", repr(u1), \"\\n\") \n",
    "\n",
    "    print(\"CRUD: CREATE few users:\\n\") \n",
    "    u2 = User(name='P Manning', uid='man', password='123', dob=date(1997, 2, 23), touchdowns=900)\n",
    "    u3 = User(name='Donovan', uid='don', password='123dd', dob=date(1990, 2, 23), touchdowns=50)\n",
    "    u4 = User(name='McNab', uid='mac', password='s123', dob=date(1998, 2, 2), touchdowns=600)\n",
    "    print(\"CREATE:\\n\", u2, \"\\n\") \n",
    "    print(\"CREATE:\\n\", u3, \"\\n\\n\") \n",
    "    print(\"READ:\\n\", u4, \"\\n\") \n",
    "    \n",
    "    u4.touchdowns = 601\n",
    "    print(\"UPDATE:\\n\", u4, \"\\n\") \n",
    "    \n",
    "    \n",
    "    \n",
    "    "
   ]
  },
  {
   "attachments": {},
   "cell_type": "markdown",
   "metadata": {},
   "source": [
    "### HACKS - Start Code"
   ]
  },
  {
   "cell_type": "code",
   "execution_count": 2,
   "metadata": {},
   "outputs": [
    {
     "name": "stdout",
     "output_type": "stream",
     "text": [
      "16\n"
     ]
    }
   ],
   "source": [
    "from datetime import date\n",
    "\n",
    "def calculate_age(born):\n",
    "    today = date.today()\n",
    "    return today.year - born.year - ((today.month, today.day) < (born.month, born.day))\n",
    "\n",
    "dob = date(2006, 9, 28)\n",
    "age = calculate_age(date(2006, 9, 28))\n",
    "print(age)\n"
   ]
  },
  {
   "attachments": {},
   "cell_type": "markdown",
   "metadata": {},
   "source": [
    "##### Extra credit change -- I changed the Hashing Library for this Python code from werkzeug.security to Pythons HASHLIB. As per online documentation the HASHLIB has faster performance."
   ]
  }
 ],
 "metadata": {
  "kernelspec": {
   "display_name": "Python 3.10.4 64-bit",
   "language": "python",
   "name": "python3"
  },
  "language_info": {
   "codemirror_mode": {
    "name": "ipython",
    "version": 3
   },
   "file_extension": ".py",
   "mimetype": "text/x-python",
   "name": "python",
   "nbconvert_exporter": "python",
   "pygments_lexer": "ipython3",
   "version": "3.10.4"
  },
  "orig_nbformat": 4,
  "vscode": {
   "interpreter": {
    "hash": "916dbcbb3f70747c44a77c7bcd40155683ae19c65e1c03b4aa3499c5328201f1"
   }
  }
 },
 "nbformat": 4,
 "nbformat_minor": 2
}
