{
 "cells": [
  {
   "attachments": {},
   "cell_type": "markdown",
   "metadata": {},
   "source": [
    "# Sorting Algorithms\n",
    "Working with Data Structures and manipulating data.\n",
    "\n",
    "- categories: [sorting, Algo]\n",
    "- type: pbl\n",
    "- week: 34"
   ]
  },
  {
   "cell_type": "code",
   "execution_count": null,
   "metadata": {},
   "outputs": [
    {
     "name": "stdout",
     "output_type": "stream",
     "text": [
      "Random List\n",
      "[70, 88, 8, 54, 95, 47, 71, 90, 20, 36]\n"
     ]
    }
   ],
   "source": [
    "import random\n",
    "\n",
    "numbers = []\n",
    "for i in range(10):\n",
    "    numbers.append(random.randint(0,100))\n",
    "print(\"Random List\")\n",
    "print(numbers)"
   ]
  },
  {
   "attachments": {},
   "cell_type": "markdown",
   "metadata": {},
   "source": [
    "# Explore\n",
    "\n",
    "## Merge\n",
    "- Splits, Sorts, then puts back together\n",
    "\n",
    "## Selection\n",
    "- Finds the lowest value and puts it in the beginning of the array, and then goes to the next lowest value\n",
    "\n",
    "## Insertion\n",
    "- Looks through the list and compares each value with the other values in the list and places the value where is should be compared to the entire list\n"
   ]
  },
  {
   "attachments": {},
   "cell_type": "markdown",
   "metadata": {},
   "source": [
    "## Practice\n",
    "\n",
    "[75, 17, 46, 80, 67, 45, 69, 79, 40, 0]\n",
    "\n",
    "### Bubble Sort\n",
    "Looks at each value and moves it to the left or right depending on what its neighbor does\n",
    "\n",
    "### Selection Sort\n",
    "Searches through all of the lists and finds the lowest, placing it at the very bottom, in this case the value would be 0, then 17, etc.\n",
    "\n",
    "### Merge Sort\n",
    "We would split the value in half, in this case we would split it into 5 and 5, then each of those would be split into 2 and 3, then the 3 would be split into 2 and 1. All of these would then be sorted with lowest value at the bottom and then all put together again.\n",
    "\n",
    "### Insertion Sort\n",
    "It will sort each value left to right like bubble sort but instead of just moving one value to the right, every value would be moved however far left it needs to be moved\n"
   ]
  },
  {
   "attachments": {},
   "cell_type": "markdown",
   "metadata": {},
   "source": [
    "# Sorting Words\n",
    "Sorting strings works in the same way as integers. Using your expertise algorithm, sort the following list of random words."
   ]
  },
  {
   "cell_type": "code",
   "execution_count": null,
   "metadata": {},
   "outputs": [],
   "source": [
    "import nltk\n",
    "import random\n",
    "\n",
    "nltk.download('words')  # Download the word list (only required once)\n",
    "\n",
    "from nltk.corpus import words\n",
    "\n",
    "english_words = words.words()\n",
    "#print(len(english_words))  # Prints the number of words in the list\n",
    "\n",
    "# You can now use the 'english_words' list in your code\n",
    "\n",
    "words = []\n",
    "for i in range(10):\n",
    "    words.append(english_words[random.randint(0,len(english_words))])\n",
    "print(\"Random List\")\n",
    "print(words)"
   ]
  },
  {
   "attachments": {},
   "cell_type": "markdown",
   "metadata": {},
   "source": [
    "## Discuss \n",
    "Answer the following with your group.\n",
    "\n",
    "- When should you use each algorithm? What makes an algorithm the right choice?\n",
    "        The best algorithm to choose depends on the smallest number of steps it takes to accomplish a task\n",
    "- Given the following lists...\n",
    "    - [0, 2, 6, 4, 8, 10]\n",
    "\n",
    "Bubble sort would be the best option here since you only have to switch the 6 and 4\n",
    "\n",
    "    - [Elephant, Banana, Cat, Dog, Apple]\n",
    "\n",
    "Selection sort would only takes 4 steps to accomplish\n",
    "\n",
    "    - [29, 13, 83, 47, 32, 78, 100, 60, 65, 15, 24, 9, 40, 68, 53, 8, 90, 58, 39, 32, 34, 91, 74, 94, 49, 87, 34, 87, 23, 17, 27, 2, 38, 58, 84, 15, 9, 46, 74, 40, 44, 8, 55, 28, 81, 92, 81, 88, 53, 38, 19, 21, 9, 54, 21, 67, 3, 41, 3, 74, 13, 71, 70, 45, 5, 36, 80, 64, 97, 86, 73, 74, 94, 79, 49, 32, 20, 68, 64, 69, 1, 77, 31, 56, 100, 80, 48, 75, 85, 93, 67, 57, 26, 56, 43, 53, 59, 28, 67, 50]\n",
    "\n",
    "Merge would be the best since it would split the table in half reducing the amount of times we would need to check the values against the other values\n",
    "\n",
    "Select the algorithm you believe is best for each, explain."
   ]
  },
  {
   "attachments": {},
   "cell_type": "markdown",
   "metadata": {},
   "source": [
    "## HACKS\n",
    "> Provided below is a Bubble Sort Algorithm sorting a list of dictionaries based off of selected key.\n",
    "\n",
    "- Now it's time to do some coding...\n",
    "\n",
    "- Run code and then research and answer these questions...\n",
    "    - Is a list and/or dictionary in python considered a primitive or collection type?  Why?\n",
    "\n",
    "Because they store numerous values and have a collection of values, lists and dictionaries are regarded as collection types in Python.\n",
    "\n",
    "    - Is the list passed into bubble sort \"pass-by-value\" or \"pass-by-reference? Describe why in relation to output.\n",
    "    \n",
    "Because it relates to the list and modifies the list, it is pass-by-reference and related to output.\n",
    "\n",
    "- Implement new cell(s) and/or organize cells to do the following.\n",
    "    - Create your own list\n",
    "    - Use your expertise sorting algorithm (selection, insertion, merge). Note, I got my bubble sort from Geek for Geeks and made modifications. Each student in a group should have a unique algorithm.\n",
    "    - Test your list with my bubble sort\n",
    "    - Test my list with your new sort, do NOT make a copy my list when doing this\n",
    "    - Research analysis on sorting: comparisons, swaps, time.  Build this into your hacks.\n",
    "    - Find a better way to print the data, key first, then other elements in viewable form.\n",
    "\n",
    "Use the code below to help guide your adventure"
   ]
  },
  {
   "attachments": {},
   "cell_type": "markdown",
   "metadata": {},
   "source": [
    "Is a list and/or dictionary in python considered a primitive or collection type?  Why?\n",
    "\n",
    "        - Lists and Dictionarys are considered collection types because they are able to hold information and multiple different data values \n",
    "\n",
    "Is the list passed into bubble sort \"pass-by-value\" or \"pass-by-reference? Describe why in relation to output.\n",
    "\n",
    "- It is pass-by-reference. Because it relates to the list and modifies the list, this has to do with output.\n",
    "       "
   ]
  },
  {
   "cell_type": "code",
   "execution_count": 1,
   "metadata": {},
   "outputs": [
    {
     "name": "stdout",
     "output_type": "stream",
     "text": [
      "Original\n",
      "[{'name': 'Risa', 'age': 18, 'city': 'New York'}, {'name': 'John', 'age': 63, 'city': 'Eugene'}, {'name': 'Shekar', 'age': 18, 'city': 'San Francisco'}, {'name': 'Ryan', 'age': 21, 'city': 'Los Angeles'}]\n",
      "name\n",
      "[{'name': 'John', 'age': 63, 'city': 'Eugene'}, {'name': 'Risa', 'age': 18, 'city': 'New York'}, {'name': 'Ryan', 'age': 21, 'city': 'Los Angeles'}, {'name': 'Shekar', 'age': 18, 'city': 'San Francisco'}]\n",
      "age\n",
      "[{'name': 'Risa', 'age': 18, 'city': 'New York'}, {'name': 'Shekar', 'age': 18, 'city': 'San Francisco'}, {'name': 'Ryan', 'age': 21, 'city': 'Los Angeles'}, {'name': 'John', 'age': 63, 'city': 'Eugene'}]\n",
      "city\n",
      "[{'name': 'John', 'age': 63, 'city': 'Eugene'}, {'name': 'Ryan', 'age': 21, 'city': 'Los Angeles'}, {'name': 'Risa', 'age': 18, 'city': 'New York'}, {'name': 'Shekar', 'age': 18, 'city': 'San Francisco'}]\n"
     ]
    }
   ],
   "source": [
    "\"\"\"\n",
    "* Creator: Nighthawk Coding Society\n",
    "Bubble Sort of a List with optimizations\n",
    "\"\"\"\n",
    "\n",
    "# bubble sorts a list of dictionaries, base off of provided key\n",
    "def bubbleSort(list, key):\n",
    "    n = len(list) - 1  # list are indexed 0 to n-1, len is n\n",
    "    \n",
    "    # Traverse through list with i index\n",
    "    for i in range(n):\n",
    "        swapped = False  # optimize code, so it exits if now swaps on inner loop\n",
    "\n",
    "        # Inner traversal using j index\n",
    "        for j in range(n-i):  # n-i as positions on right are in order in bubble\n",
    " \n",
    "            # Swap if the element KeyN is greater KeyN1\n",
    "            keyN = list[j].get(key)\n",
    "            keyN1 = list[j+1].get(key)\n",
    "            if keyN > keyN1:\n",
    "                swapped = True\n",
    "                list[j], list[j + 1] = list[j + 1], list[j]  # single line swap\n",
    "         \n",
    "        if not swapped:  # if no swaps on inner pass, list is sorted\n",
    "            return  # exit function\n",
    "    \n",
    "\n",
    "if __name__ == \"__main__\":\n",
    "    # list/dictionary sample\n",
    "    list_of_people = [\n",
    "    {\"name\": \"Risa\", \"age\": 18, \"city\": \"New York\"},\n",
    "    {\"name\": \"John\", \"age\": 63, \"city\": \"Eugene\"},\n",
    "    {\"name\": \"Shekar\", \"age\": 18, \"city\": \"San Francisco\"},\n",
    "    {\"name\": \"Ryan\", \"age\": 21, \"city\": \"Los Angeles\"}\n",
    "    ]\n",
    "    \n",
    "    # assuming uniform keys, pick 1st row as source of keys\n",
    "    key_row = list_of_people[0]\n",
    "\n",
    "    # print list as defined\n",
    "    print(\"Original\")\n",
    "    print(list_of_people)\n",
    "    \n",
    "    for key in key_row:  # finds each key in the row\n",
    "        print(key)\n",
    "        bubbleSort(list_of_people, key)  # sort list of people\n",
    "        print(list_of_people)"
   ]
  }
 ],
 "metadata": {
  "kernelspec": {
   "display_name": "base",
   "language": "python",
   "name": "python3"
  },
  "language_info": {
   "codemirror_mode": {
    "name": "ipython",
    "version": 3
   },
   "file_extension": ".py",
   "mimetype": "text/x-python",
   "name": "python",
   "nbconvert_exporter": "python",
   "pygments_lexer": "ipython3",
   "version": "3.9.12"
  },
  "orig_nbformat": 4
 },
 "nbformat": 4,
 "nbformat_minor": 2
}
